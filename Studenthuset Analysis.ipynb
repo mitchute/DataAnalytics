{
 "cells": [
  {
   "cell_type": "code",
   "execution_count": 1,
   "metadata": {
    "collapsed": true
   },
   "outputs": [],
   "source": [
    "from GHEAnalysisLib import import_studenthuset_data_to_dataframe\n",
    "\n",
    "import matplotlib.pyplot as plt\n",
    "%matplotlib inline"
   ]
  },
  {
   "cell_type": "code",
   "execution_count": 2,
   "metadata": {
    "collapsed": true
   },
   "outputs": [],
   "source": [
    "path_to_files = \"D:\\\\Dropbox\\\\OSU Courses\\\\13 Spring 2018\\\\6010 Data Analysis for Thermal Systems\\\\Data Archive\\\\Studenthuset\\\\Studenthuset data detailed excel files\\\\2016\\\\Original_data\""
   ]
  },
  {
   "cell_type": "code",
   "execution_count": 3,
   "metadata": {},
   "outputs": [],
   "source": [
    "json_name = \"import_data.json\""
   ]
  },
  {
   "cell_type": "code",
   "execution_count": 4,
   "metadata": {},
   "outputs": [
    {
     "name": "stdout",
     "output_type": "stream",
     "text": [
      "Importing File: Ambient_Temp_2016.xlsx\n",
      "\tSheet: Sheet1\n",
      "Importing File: Cm_Cooling_001_Volume_meter_value_2016_1473084170.xlsx\n",
      "\tSheet: 1473084170\n",
      "Importing File: CP_Cooling_101_Capacity_2016_1473085846.xlsx\n",
      "\tSheet: 1473085846\n",
      "Importing File: CQ_Cooling_001_2016_1473082720.xlsx\n",
      "\tSheet: 1473082720\n",
      "Importing File: CTB_Cooling_001_Temp_out_2016_1473083283.xlsx\n",
      "\tSheet: 1473083283\n",
      "Importing File: CTR_Cooling_001_temp_return_2016_1473083699.xlsx\n",
      "\tSheet: 1473083699\n",
      "Importing File: DHW_volume_meter_value_2016_1473082210.xlsx\n",
      "\tSheet: 1473082210\n",
      "Importing File: EQ_EL007_2016.xlsx\n",
      "\tSheet: Sheet1\n",
      "Importing File: Hm_Fluid_volume_meter_htg_2016_1473081579.xlsx\n",
      "\tSheet: 1473081579\n",
      "Importing File: HP_heating_Capacity_2016_1473080034.xlsx\n",
      "\tSheet: 1473080034\n",
      "Importing File: HQ_Heating_2016_1473079241.xlsx\n",
      "\tSheet: 1473079241\n",
      "Importing File: HTB_Temp_htg_to_bldg_2016_1473080485.xlsx\n",
      "\tSheet: 1473080485\n",
      "Importing File: HTR_Temp_htg_return_2016_1473081099.xlsx\n",
      "\tSheet: 1473081099\n",
      "Importing File: Not_for_use_El_004_HPs_and_Circpumps_2016.xlsx\n",
      "\tSheet: 1473084742\n",
      "Importing File: Unknown_Cooling_002_energy_2016_1473085401.xlsx\n",
      "\tSheet: 1473085401\n"
     ]
    }
   ],
   "source": [
    "df = import_studenthuset_data_to_dataframe(path_to_files, json_name)"
   ]
  },
  {
   "cell_type": "code",
   "execution_count": 5,
   "metadata": {},
   "outputs": [
    {
     "data": {
      "text/html": [
       "<div>\n",
       "<style scoped>\n",
       "    .dataframe tbody tr th:only-of-type {\n",
       "        vertical-align: middle;\n",
       "    }\n",
       "\n",
       "    .dataframe tbody tr th {\n",
       "        vertical-align: top;\n",
       "    }\n",
       "\n",
       "    .dataframe thead th {\n",
       "        text-align: right;\n",
       "    }\n",
       "</style>\n",
       "<table border=\"1\" class=\"dataframe\">\n",
       "  <thead>\n",
       "    <tr style=\"text-align: right;\">\n",
       "      <th></th>\n",
       "      <th>Ambient Temp (C)</th>\n",
       "      <th>Cooling (MWh)</th>\n",
       "      <th>Cooling 001 Capacity (kW)</th>\n",
       "      <th>Cooling 001 Temp Out (C)</th>\n",
       "      <th>Cooling 001 Temp Return (C)</th>\n",
       "      <th>Cooling 001 Volume Meter Value (m3)</th>\n",
       "      <th>Cooling 002 Energy (MWh)</th>\n",
       "      <th>EQ EL007 Energy (kWh)</th>\n",
       "      <th>Electricity 004 HPs and Circ Pumps (kWh)</th>\n",
       "      <th>Fluid Volume Meter - Heating (m3)</th>\n",
       "      <th>Heat from HPs to Bldg (MWh)</th>\n",
       "      <th>Heating Capacity (kW)</th>\n",
       "      <th>Heating Temp Return from Bldg (C)</th>\n",
       "      <th>Heating Temp to Bldg (C)</th>\n",
       "      <th>Hot Water Volume Meter Value (m3)</th>\n",
       "    </tr>\n",
       "  </thead>\n",
       "  <tbody>\n",
       "    <tr>\n",
       "      <th>2015-12-31 23:00:00</th>\n",
       "      <td>NaN</td>\n",
       "      <td>27.5</td>\n",
       "      <td>NaN</td>\n",
       "      <td>8.0</td>\n",
       "      <td>8.8</td>\n",
       "      <td>619.897</td>\n",
       "      <td>188.01</td>\n",
       "      <td>NaN</td>\n",
       "      <td>224787.62</td>\n",
       "      <td>44126.0</td>\n",
       "      <td>432.91</td>\n",
       "      <td>25.0</td>\n",
       "      <td>31.0</td>\n",
       "      <td>36.0</td>\n",
       "      <td>735.61</td>\n",
       "    </tr>\n",
       "    <tr>\n",
       "      <th>2016-01-01 00:00:00</th>\n",
       "      <td>NaN</td>\n",
       "      <td>27.5</td>\n",
       "      <td>NaN</td>\n",
       "      <td>8.2</td>\n",
       "      <td>8.7</td>\n",
       "      <td>619.925</td>\n",
       "      <td>188.03</td>\n",
       "      <td>NaN</td>\n",
       "      <td>224802.36</td>\n",
       "      <td>44131.0</td>\n",
       "      <td>432.95</td>\n",
       "      <td>22.0</td>\n",
       "      <td>32.0</td>\n",
       "      <td>37.0</td>\n",
       "      <td>735.61</td>\n",
       "    </tr>\n",
       "    <tr>\n",
       "      <th>2016-01-01 01:00:00</th>\n",
       "      <td>2.722222</td>\n",
       "      <td>27.5</td>\n",
       "      <td>NaN</td>\n",
       "      <td>8.0</td>\n",
       "      <td>8.5</td>\n",
       "      <td>619.954</td>\n",
       "      <td>188.06</td>\n",
       "      <td>13.83</td>\n",
       "      <td>224817.21</td>\n",
       "      <td>44136.0</td>\n",
       "      <td>432.99</td>\n",
       "      <td>30.0</td>\n",
       "      <td>32.0</td>\n",
       "      <td>40.0</td>\n",
       "      <td>735.61</td>\n",
       "    </tr>\n",
       "    <tr>\n",
       "      <th>2016-01-01 02:00:00</th>\n",
       "      <td>2.777778</td>\n",
       "      <td>27.5</td>\n",
       "      <td>NaN</td>\n",
       "      <td>7.6</td>\n",
       "      <td>8.8</td>\n",
       "      <td>619.983</td>\n",
       "      <td>188.08</td>\n",
       "      <td>12.63</td>\n",
       "      <td>224830.57</td>\n",
       "      <td>44140.0</td>\n",
       "      <td>433.03</td>\n",
       "      <td>64.0</td>\n",
       "      <td>30.0</td>\n",
       "      <td>41.0</td>\n",
       "      <td>735.61</td>\n",
       "    </tr>\n",
       "    <tr>\n",
       "      <th>2016-01-01 03:00:00</th>\n",
       "      <td>2.777778</td>\n",
       "      <td>27.5</td>\n",
       "      <td>NaN</td>\n",
       "      <td>7.8</td>\n",
       "      <td>8.8</td>\n",
       "      <td>620.012</td>\n",
       "      <td>188.09</td>\n",
       "      <td>12.03</td>\n",
       "      <td>224843.68</td>\n",
       "      <td>44145.0</td>\n",
       "      <td>433.07</td>\n",
       "      <td>47.0</td>\n",
       "      <td>31.0</td>\n",
       "      <td>38.0</td>\n",
       "      <td>735.61</td>\n",
       "    </tr>\n",
       "  </tbody>\n",
       "</table>\n",
       "</div>"
      ],
      "text/plain": [
       "                     Ambient Temp (C)  Cooling (MWh)  \\\n",
       "2015-12-31 23:00:00               NaN           27.5   \n",
       "2016-01-01 00:00:00               NaN           27.5   \n",
       "2016-01-01 01:00:00          2.722222           27.5   \n",
       "2016-01-01 02:00:00          2.777778           27.5   \n",
       "2016-01-01 03:00:00          2.777778           27.5   \n",
       "\n",
       "                     Cooling 001 Capacity (kW)  Cooling 001 Temp Out (C)  \\\n",
       "2015-12-31 23:00:00                        NaN                       8.0   \n",
       "2016-01-01 00:00:00                        NaN                       8.2   \n",
       "2016-01-01 01:00:00                        NaN                       8.0   \n",
       "2016-01-01 02:00:00                        NaN                       7.6   \n",
       "2016-01-01 03:00:00                        NaN                       7.8   \n",
       "\n",
       "                     Cooling 001 Temp Return (C)  \\\n",
       "2015-12-31 23:00:00                          8.8   \n",
       "2016-01-01 00:00:00                          8.7   \n",
       "2016-01-01 01:00:00                          8.5   \n",
       "2016-01-01 02:00:00                          8.8   \n",
       "2016-01-01 03:00:00                          8.8   \n",
       "\n",
       "                     Cooling 001 Volume Meter Value (m3)  \\\n",
       "2015-12-31 23:00:00                              619.897   \n",
       "2016-01-01 00:00:00                              619.925   \n",
       "2016-01-01 01:00:00                              619.954   \n",
       "2016-01-01 02:00:00                              619.983   \n",
       "2016-01-01 03:00:00                              620.012   \n",
       "\n",
       "                     Cooling 002 Energy (MWh)  EQ EL007 Energy (kWh)  \\\n",
       "2015-12-31 23:00:00                    188.01                    NaN   \n",
       "2016-01-01 00:00:00                    188.03                    NaN   \n",
       "2016-01-01 01:00:00                    188.06                  13.83   \n",
       "2016-01-01 02:00:00                    188.08                  12.63   \n",
       "2016-01-01 03:00:00                    188.09                  12.03   \n",
       "\n",
       "                     Electricity 004 HPs and Circ Pumps (kWh)  \\\n",
       "2015-12-31 23:00:00                                 224787.62   \n",
       "2016-01-01 00:00:00                                 224802.36   \n",
       "2016-01-01 01:00:00                                 224817.21   \n",
       "2016-01-01 02:00:00                                 224830.57   \n",
       "2016-01-01 03:00:00                                 224843.68   \n",
       "\n",
       "                     Fluid Volume Meter - Heating (m3)  \\\n",
       "2015-12-31 23:00:00                            44126.0   \n",
       "2016-01-01 00:00:00                            44131.0   \n",
       "2016-01-01 01:00:00                            44136.0   \n",
       "2016-01-01 02:00:00                            44140.0   \n",
       "2016-01-01 03:00:00                            44145.0   \n",
       "\n",
       "                     Heat from HPs to Bldg (MWh)  Heating Capacity (kW)  \\\n",
       "2015-12-31 23:00:00                       432.91                   25.0   \n",
       "2016-01-01 00:00:00                       432.95                   22.0   \n",
       "2016-01-01 01:00:00                       432.99                   30.0   \n",
       "2016-01-01 02:00:00                       433.03                   64.0   \n",
       "2016-01-01 03:00:00                       433.07                   47.0   \n",
       "\n",
       "                     Heating Temp Return from Bldg (C)  \\\n",
       "2015-12-31 23:00:00                               31.0   \n",
       "2016-01-01 00:00:00                               32.0   \n",
       "2016-01-01 01:00:00                               32.0   \n",
       "2016-01-01 02:00:00                               30.0   \n",
       "2016-01-01 03:00:00                               31.0   \n",
       "\n",
       "                     Heating Temp to Bldg (C)  \\\n",
       "2015-12-31 23:00:00                      36.0   \n",
       "2016-01-01 00:00:00                      37.0   \n",
       "2016-01-01 01:00:00                      40.0   \n",
       "2016-01-01 02:00:00                      41.0   \n",
       "2016-01-01 03:00:00                      38.0   \n",
       "\n",
       "                     Hot Water Volume Meter Value (m3)  \n",
       "2015-12-31 23:00:00                             735.61  \n",
       "2016-01-01 00:00:00                             735.61  \n",
       "2016-01-01 01:00:00                             735.61  \n",
       "2016-01-01 02:00:00                             735.61  \n",
       "2016-01-01 03:00:00                             735.61  "
      ]
     },
     "execution_count": 5,
     "metadata": {},
     "output_type": "execute_result"
    }
   ],
   "source": [
    "df.head()"
   ]
  },
  {
   "cell_type": "code",
   "execution_count": 6,
   "metadata": {},
   "outputs": [
    {
     "name": "stderr",
     "output_type": "stream",
     "text": [
      "C:\\ProgramData\\Anaconda3\\lib\\site-packages\\pandas\\plotting\\_core.py:1716: UserWarning: Pandas doesn't allow columns to be created via a new attribute name - see https://pandas.pydata.org/pandas-docs/stable/indexing.html#attribute-access\n",
      "  series.name = label\n"
     ]
    },
    {
     "data": {
      "text/plain": [
       "<matplotlib.axes._subplots.AxesSubplot at 0xa998860>"
      ]
     },
     "execution_count": 6,
     "metadata": {},
     "output_type": "execute_result"
    }
   ],
   "source": [
    "df.plot(y=['Cooling (MWh)'])"
   ]
  },
  {
   "cell_type": "code",
   "execution_count": null,
   "metadata": {
    "collapsed": true
   },
   "outputs": [],
   "source": []
  }
 ],
 "metadata": {
  "kernelspec": {
   "display_name": "Python 3",
   "language": "python",
   "name": "python3"
  },
  "language_info": {
   "codemirror_mode": {
    "name": "ipython",
    "version": 3
   },
   "file_extension": ".py",
   "mimetype": "text/x-python",
   "name": "python",
   "nbconvert_exporter": "python",
   "pygments_lexer": "ipython3",
   "version": "3.6.4"
  }
 },
 "nbformat": 4,
 "nbformat_minor": 2
}
