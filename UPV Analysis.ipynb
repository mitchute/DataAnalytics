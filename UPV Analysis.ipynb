{
 "cells": [
  {
   "cell_type": "code",
   "execution_count": 1,
   "metadata": {},
   "outputs": [],
   "source": [
    "import os\n",
    "import fnmatch\n",
    "\n",
    "import numpy as np\n",
    "import pandas as pd\n",
    "from datetime import datetime\n",
    "from scipy.stats import binned_statistic_2d\n",
    "\n",
    "from GHEAnalysisLib import import_all_spain_data_sets_in_dir_to_dataframe\n",
    "from GHEAnalysisLib import load_stored_dataframes_from_csv_to_single_dataframe\n",
    "from GHEAnalysisLib import write_annual_csv_files\n",
    "from GHEAnalysisLib import get_spain_resource_files\n",
    "\n",
    "import matplotlib.pyplot as plt\n",
    "%matplotlib inline\n",
    "\n",
    "from CoolProp.CoolProp import PropsSI\n",
    "\n",
    "import numpy as np\n",
    "\n",
    "plt.style.use('ggplot')"
   ]
  },
  {
   "cell_type": "markdown",
   "metadata": {},
   "source": [
    "# Import raw data from original files\n",
    "\n",
    "Repository contains daily data files that contain minutely data. Data are imported by year (except for year 2011) due to the repository data structure. It can take some time to import all of the data files. As is, on my machine it took 1-2 hours to import all of the data from the individual files.\n",
    "\n",
    "Note: some of the cells are commented out because later work supercedes their usage. They are preserved in comments though."
   ]
  },
  {
   "cell_type": "code",
   "execution_count": 2,
   "metadata": {},
   "outputs": [],
   "source": [
    "# data_2005 = 'D:\\\\Dropbox\\\\OSU Courses\\\\13 Spring 2018\\\\6010 Data Analysis for Thermal Systems\\\\Ruiz-Calvo_et_al_2016_data\\\\database\\\\2005'\n",
    "# df_2005 = import_all_spain_data_sets_in_dir_to_dataframe(data_2005)"
   ]
  },
  {
   "cell_type": "code",
   "execution_count": 3,
   "metadata": {},
   "outputs": [],
   "source": [
    "# data_2006 = 'D:\\\\Dropbox\\\\OSU Courses\\\\13 Spring 2018\\\\6010 Data Analysis for Thermal Systems\\\\Ruiz-Calvo_et_al_2016_data\\\\database\\\\2006'\n",
    "# df_2006 = import_all_spain_data_sets_in_dir_to_dataframe(data_2006)"
   ]
  },
  {
   "cell_type": "code",
   "execution_count": 4,
   "metadata": {},
   "outputs": [],
   "source": [
    "# data_2007 = 'D:\\\\Dropbox\\\\OSU Courses\\\\13 Spring 2018\\\\6010 Data Analysis for Thermal Systems\\\\Ruiz-Calvo_et_al_2016_data\\\\database\\\\2007'\n",
    "# df_2007 = import_all_spain_data_sets_in_dir_to_dataframe(data_2007)"
   ]
  },
  {
   "cell_type": "code",
   "execution_count": 5,
   "metadata": {},
   "outputs": [],
   "source": [
    "# data_2008 = 'D:\\\\Dropbox\\\\OSU Courses\\\\13 Spring 2018\\\\6010 Data Analysis for Thermal Systems\\\\Ruiz-Calvo_et_al_2016_data\\\\database\\\\2008'\n",
    "# df_2008 = import_all_spain_data_sets_in_dir_to_dataframe(data_2008)"
   ]
  },
  {
   "cell_type": "code",
   "execution_count": 6,
   "metadata": {},
   "outputs": [],
   "source": [
    "# data_2009 = 'D:\\\\Dropbox\\\\OSU Courses\\\\13 Spring 2018\\\\6010 Data Analysis for Thermal Systems\\\\Ruiz-Calvo_et_al_2016_data\\\\database\\\\2009'\n",
    "# df_2009 = import_all_spain_data_sets_in_dir_to_dataframe(data_2009)"
   ]
  },
  {
   "cell_type": "code",
   "execution_count": 7,
   "metadata": {},
   "outputs": [],
   "source": [
    "# data_2010= 'D:\\\\Dropbox\\\\OSU Courses\\\\13 Spring 2018\\\\6010 Data Analysis for Thermal Systems\\\\Ruiz-Calvo_et_al_2016_data\\\\database\\\\2010'\n",
    "# df_2010 = import_all_spain_data_sets_in_dir_to_dataframe(data_2010)"
   ]
  },
  {
   "cell_type": "code",
   "execution_count": 8,
   "metadata": {},
   "outputs": [],
   "source": [
    "# data_2011_a = 'D:\\\\Dropbox\\\\OSU Courses\\\\13 Spring 2018\\\\6010 Data Analysis for Thermal Systems\\\\Ruiz-Calvo_et_al_2016_data\\\\database\\\\2011'\n",
    "# df_2011_a = import_all_spain_data_sets_in_dir_to_dataframe(data_2011_a)"
   ]
  },
  {
   "cell_type": "code",
   "execution_count": 9,
   "metadata": {},
   "outputs": [],
   "source": [
    "# data_2011_b = 'D:\\\\Dropbox\\\\OSU Courses\\\\13 Spring 2018\\\\6010 Data Analysis for Thermal Systems\\\\Ruiz-Calvo_et_al_2016_data\\\\database2\\\\2011'\n",
    "# df_2011_b = import_all_spain_data_sets_in_dir_to_dataframe(data_2011_b)"
   ]
  },
  {
   "cell_type": "code",
   "execution_count": 10,
   "metadata": {},
   "outputs": [],
   "source": [
    "# data_2012 = 'D:\\\\Dropbox\\\\OSU Courses\\\\13 Spring 2018\\\\6010 Data Analysis for Thermal Systems\\\\Ruiz-Calvo_et_al_2016_data\\\\database2\\\\2012'\n",
    "# df_2012 = import_all_spain_data_sets_in_dir_to_dataframe(data_2012)"
   ]
  },
  {
   "cell_type": "code",
   "execution_count": 11,
   "metadata": {},
   "outputs": [],
   "source": [
    "# data_2013 = 'D:\\\\Dropbox\\\\OSU Courses\\\\13 Spring 2018\\\\6010 Data Analysis for Thermal Systems\\\\Ruiz-Calvo_et_al_2016_data\\\\database2\\\\2013'\n",
    "# df_2013 = import_all_spain_data_sets_in_dir_to_dataframe(data_2013)"
   ]
  },
  {
   "cell_type": "code",
   "execution_count": 12,
   "metadata": {},
   "outputs": [],
   "source": [
    "# data_2014 = 'D:\\\\Dropbox\\\\OSU Courses\\\\13 Spring 2018\\\\6010 Data Analysis for Thermal Systems\\\\Ruiz-Calvo_et_al_2016_data\\\\database2\\\\2014'\n",
    "# df_2014 = import_all_spain_data_sets_in_dir_to_dataframe(data_2014)"
   ]
  },
  {
   "cell_type": "code",
   "execution_count": 13,
   "metadata": {},
   "outputs": [],
   "source": [
    "# data_2015 = 'D:\\\\Dropbox\\\\OSU Courses\\\\13 Spring 2018\\\\6010 Data Analysis for Thermal Systems\\\\Ruiz-Calvo_et_al_2016_data\\\\database2\\\\2015'\n",
    "# df_2015 = import_all_spain_data_sets_in_dir_to_dataframe(data_2015)"
   ]
  },
  {
   "cell_type": "markdown",
   "metadata": {},
   "source": [
    "# Dump the data to annual data files (almost)\n",
    "\n",
    "Since it takes so long to import all of the original data files, the files are dumped to a CSV file which make it easier to reimport the raw data when needed.\n",
    "\n",
    "Data are dumped to CSV files, but Pandas supports a number of other file types. When testing HDF5, the read/write speed was much faster than for CSV files, however, CSV files have the advantage in that they are human readable, whereas HDF5 is binary."
   ]
  },
  {
   "cell_type": "code",
   "execution_count": 14,
   "metadata": {},
   "outputs": [],
   "source": [
    "# See example here for how to read/write HDF5 data\n",
    "# https://stackoverflow.com/a/17098736/5965685\n",
    "\n",
    "# df_2005.to_csv('.\\\\UPV_Data\\\\2005_Raw.csv')"
   ]
  },
  {
   "cell_type": "code",
   "execution_count": 15,
   "metadata": {},
   "outputs": [],
   "source": [
    "# df_2006.to_csv('.\\\\UPV_Data\\\\2006_Raw.csv')"
   ]
  },
  {
   "cell_type": "code",
   "execution_count": 16,
   "metadata": {},
   "outputs": [],
   "source": [
    "# df_2007.to_csv('.\\\\UPV_Data\\\\2007_Raw.csv')"
   ]
  },
  {
   "cell_type": "code",
   "execution_count": 17,
   "metadata": {},
   "outputs": [],
   "source": [
    "# df_2008.to_csv('.\\\\UPV_Data\\\\2008_Raw.csv')"
   ]
  },
  {
   "cell_type": "code",
   "execution_count": 18,
   "metadata": {},
   "outputs": [],
   "source": [
    "# df_2009.to_csv('.\\\\UPV_Data\\\\2009_Raw.csv')"
   ]
  },
  {
   "cell_type": "code",
   "execution_count": 19,
   "metadata": {},
   "outputs": [],
   "source": [
    "# df_2010.to_csv('.\\\\UPV_Data\\\\2010_Raw.csv')"
   ]
  },
  {
   "cell_type": "code",
   "execution_count": 20,
   "metadata": {},
   "outputs": [],
   "source": [
    "# df_2011_a.to_csv('.\\\\UPV_Data\\\\2011_a_Raw.csv')"
   ]
  },
  {
   "cell_type": "code",
   "execution_count": 21,
   "metadata": {},
   "outputs": [],
   "source": [
    "# df_2011_b.to_csv('.\\\\UPV_Data\\\\2011_b_Raw.csv')"
   ]
  },
  {
   "cell_type": "code",
   "execution_count": 22,
   "metadata": {},
   "outputs": [],
   "source": [
    "# df_2012.to_csv('.\\\\UPV_Data\\\\2012_Raw.csv')"
   ]
  },
  {
   "cell_type": "code",
   "execution_count": 23,
   "metadata": {},
   "outputs": [],
   "source": [
    "# df_2013.to_csv('.\\\\UPV_Data\\\\2013_Raw.csv')"
   ]
  },
  {
   "cell_type": "code",
   "execution_count": 24,
   "metadata": {},
   "outputs": [],
   "source": [
    "# df_2014.to_csv('.\\\\UPV_Data\\\\2014_Raw.csv')"
   ]
  },
  {
   "cell_type": "code",
   "execution_count": 25,
   "metadata": {},
   "outputs": [],
   "source": [
    "# df_2015.to_csv('.\\\\UPV_Data\\\\2015_Raw.csv')"
   ]
  },
  {
   "cell_type": "markdown",
   "metadata": {},
   "source": [
    "# Incorporate reference data\n",
    "\n",
    "The data repository contains the raw __minutely__, numeric data, but it also contains __daily__ qualitative data which indicates if the system is \"ON/OFF\" if the data is valid (\"YES/NO\").\n",
    "\n",
    "These data have to be merged before any analysis can occur"
   ]
  },
  {
   "cell_type": "code",
   "execution_count": 26,
   "metadata": {},
   "outputs": [],
   "source": [
    "# df_raw = load_stored_dataframes_from_csv_to_single_dataframe('.\\\\UPV_Data')"
   ]
  },
  {
   "cell_type": "code",
   "execution_count": 27,
   "metadata": {},
   "outputs": [],
   "source": [
    "# df_ref = get_spain_resource_files('..\\\\Ruiz-Calvo_et_al_2016_data')"
   ]
  },
  {
   "cell_type": "code",
   "execution_count": 29,
   "metadata": {},
   "outputs": [],
   "source": [
    "# https://stackoverflow.com/questions/49182288/combine-dataframes-with-minute-and-date-indexes\n",
    "\n",
    "# df_merge = pd.merge_asof(df_raw, df_ref, left_index=True, right_index=True)\n",
    "# df_merge.head(2)"
   ]
  },
  {
   "cell_type": "code",
   "execution_count": 30,
   "metadata": {},
   "outputs": [],
   "source": [
    "# mask = df_merge['Representative Data'] == 'YES'"
   ]
  },
  {
   "cell_type": "code",
   "execution_count": 31,
   "metadata": {},
   "outputs": [],
   "source": [
    "# df_valid = df_merge[mask]\n",
    "# df_valid.head(2)"
   ]
  },
  {
   "cell_type": "markdown",
   "metadata": {},
   "source": [
    "# Finally, we have data which can be used\n",
    "\n",
    "The data are dumped to annual CSV files for ease of usage later."
   ]
  },
  {
   "cell_type": "code",
   "execution_count": 32,
   "metadata": {},
   "outputs": [],
   "source": [
    "# write_annual_csv_files(df_valid, 2005, 2015, '.\\\\UPV_Data', 'Raw_DeDuped_Valid')"
   ]
  },
  {
   "cell_type": "code",
   "execution_count": 33,
   "metadata": {},
   "outputs": [],
   "source": []
  },
  {
   "cell_type": "code",
   "execution_count": 34,
   "metadata": {},
   "outputs": [
    {
     "name": "stdout",
     "output_type": "stream",
     "text": [
      "Reading 2005_Raw_DeDuped_Valid.csv\n",
      "Reading 2006_Raw_DeDuped_Valid.csv\n",
      "Reading 2007_Raw_DeDuped_Valid.csv\n",
      "Reading 2008_Raw_DeDuped_Valid.csv\n",
      "Reading 2009_Raw_DeDuped_Valid.csv\n",
      "Reading 2010_Raw_DeDuped_Valid.csv\n",
      "Reading 2011_Raw_DeDuped_Valid.csv\n"
     ]
    },
    {
     "name": "stderr",
     "output_type": "stream",
     "text": [
      "C:\\ProgramData\\Anaconda3\\lib\\site-packages\\IPython\\core\\interactiveshell.py:2850: DtypeWarning: Columns (33) have mixed types. Specify dtype option on import or set low_memory=False.\n",
      "  if self.run_code(code, result):\n"
     ]
    },
    {
     "name": "stdout",
     "output_type": "stream",
     "text": [
      "Reading 2012_Raw_DeDuped_Valid.csv\n",
      "Reading 2013_Raw_DeDuped_Valid.csv\n",
      "Reading 2014_Raw_DeDuped_Valid.csv\n",
      "Reading 2015_Raw_DeDuped_Valid.csv\n",
      "Dataframes loaded successfully\n"
     ]
    }
   ],
   "source": [
    "df = load_stored_dataframes_from_csv_to_single_dataframe('.\\\\UPV_Data\\\\Raw_DeDuped_Valid')"
   ]
  },
  {
   "cell_type": "code",
   "execution_count": 35,
   "metadata": {},
   "outputs": [
    {
     "data": {
      "text/html": [
       "<div>\n",
       "<style scoped>\n",
       "    .dataframe tbody tr th:only-of-type {\n",
       "        vertical-align: middle;\n",
       "    }\n",
       "\n",
       "    .dataframe tbody tr th {\n",
       "        vertical-align: top;\n",
       "    }\n",
       "\n",
       "    .dataframe thead th {\n",
       "        text-align: right;\n",
       "    }\n",
       "</style>\n",
       "<table border=\"1\" class=\"dataframe\">\n",
       "  <thead>\n",
       "    <tr style=\"text-align: right;\">\n",
       "      <th></th>\n",
       "      <th>B1in (C)</th>\n",
       "      <th>B1out (C)</th>\n",
       "      <th>B2in (C)</th>\n",
       "      <th>B2out (C)</th>\n",
       "      <th>B3in (C)</th>\n",
       "      <th>B3out (C)</th>\n",
       "      <th>B4in (C)</th>\n",
       "      <th>B4out (C)</th>\n",
       "      <th>B5in (C)</th>\n",
       "      <th>B5out (C)</th>\n",
       "      <th>...</th>\n",
       "      <th>P_IC(kW)</th>\n",
       "      <th>P_ICP(kW)</th>\n",
       "      <th>Representative Data</th>\n",
       "      <th>STD/OPT</th>\n",
       "      <th>Sys Working</th>\n",
       "      <th>TinEC (C)</th>\n",
       "      <th>TinIC (C)</th>\n",
       "      <th>ToutEC (C)</th>\n",
       "      <th>ToutIC (C)</th>\n",
       "      <th>Ttank (C)</th>\n",
       "    </tr>\n",
       "    <tr>\n",
       "      <th>Date</th>\n",
       "      <th></th>\n",
       "      <th></th>\n",
       "      <th></th>\n",
       "      <th></th>\n",
       "      <th></th>\n",
       "      <th></th>\n",
       "      <th></th>\n",
       "      <th></th>\n",
       "      <th></th>\n",
       "      <th></th>\n",
       "      <th></th>\n",
       "      <th></th>\n",
       "      <th></th>\n",
       "      <th></th>\n",
       "      <th></th>\n",
       "      <th></th>\n",
       "      <th></th>\n",
       "      <th></th>\n",
       "      <th></th>\n",
       "      <th></th>\n",
       "      <th></th>\n",
       "    </tr>\n",
       "  </thead>\n",
       "  <tbody>\n",
       "    <tr>\n",
       "      <th>2005-02-01 00:01:14</th>\n",
       "      <td>33.534</td>\n",
       "      <td>38.276</td>\n",
       "      <td>19.074</td>\n",
       "      <td>19.065</td>\n",
       "      <td>0.09010</td>\n",
       "      <td>2783.87875</td>\n",
       "      <td>0.000608</td>\n",
       "      <td>0.31464</td>\n",
       "      <td>18.953</td>\n",
       "      <td>19.13</td>\n",
       "      <td>...</td>\n",
       "      <td>0.31464</td>\n",
       "      <td>NaN</td>\n",
       "      <td>YES</td>\n",
       "      <td>NaN</td>\n",
       "      <td>ON</td>\n",
       "      <td>18.363</td>\n",
       "      <td>18.401</td>\n",
       "      <td>18.647</td>\n",
       "      <td>18.927</td>\n",
       "      <td>NaN</td>\n",
       "    </tr>\n",
       "    <tr>\n",
       "      <th>2005-02-01 00:02:14</th>\n",
       "      <td>33.539</td>\n",
       "      <td>38.207</td>\n",
       "      <td>19.076</td>\n",
       "      <td>19.063</td>\n",
       "      <td>0.08495</td>\n",
       "      <td>2782.90075</td>\n",
       "      <td>0.000641</td>\n",
       "      <td>0.31467</td>\n",
       "      <td>18.936</td>\n",
       "      <td>19.13</td>\n",
       "      <td>...</td>\n",
       "      <td>0.31464</td>\n",
       "      <td>NaN</td>\n",
       "      <td>YES</td>\n",
       "      <td>NaN</td>\n",
       "      <td>ON</td>\n",
       "      <td>18.353</td>\n",
       "      <td>18.395</td>\n",
       "      <td>18.665</td>\n",
       "      <td>18.931</td>\n",
       "      <td>NaN</td>\n",
       "    </tr>\n",
       "  </tbody>\n",
       "</table>\n",
       "<p>2 rows × 33 columns</p>\n",
       "</div>"
      ],
      "text/plain": [
       "                     B1in (C)  B1out (C)  B2in (C)  B2out (C)  B3in (C)  \\\n",
       "Date                                                                      \n",
       "2005-02-01 00:01:14    33.534     38.276    19.074     19.065   0.09010   \n",
       "2005-02-01 00:02:14    33.539     38.207    19.076     19.063   0.08495   \n",
       "\n",
       "                      B3out (C)  B4in (C)  B4out (C)  B5in (C)  B5out (C)  \\\n",
       "Date                                                                        \n",
       "2005-02-01 00:01:14  2783.87875  0.000608    0.31464    18.953      19.13   \n",
       "2005-02-01 00:02:14  2782.90075  0.000641    0.31467    18.936      19.13   \n",
       "\n",
       "                       ...      P_IC(kW)  P_ICP(kW)  Representative Data  \\\n",
       "Date                   ...                                                 \n",
       "2005-02-01 00:01:14    ...       0.31464        NaN                  YES   \n",
       "2005-02-01 00:02:14    ...       0.31464        NaN                  YES   \n",
       "\n",
       "                     STD/OPT  Sys Working  TinEC (C)  TinIC (C)  ToutEC (C)  \\\n",
       "Date                                                                          \n",
       "2005-02-01 00:01:14      NaN           ON     18.363     18.401      18.647   \n",
       "2005-02-01 00:02:14      NaN           ON     18.353     18.395      18.665   \n",
       "\n",
       "                     ToutIC (C)  Ttank (C)  \n",
       "Date                                        \n",
       "2005-02-01 00:01:14      18.927        NaN  \n",
       "2005-02-01 00:02:14      18.931        NaN  \n",
       "\n",
       "[2 rows x 33 columns]"
      ]
     },
     "execution_count": 35,
     "metadata": {},
     "output_type": "execute_result"
    }
   ],
   "source": [
    "df.head(2)"
   ]
  },
  {
   "cell_type": "code",
   "execution_count": 36,
   "metadata": {},
   "outputs": [
    {
     "name": "stdout",
     "output_type": "stream",
     "text": [
      "<class 'pandas.core.frame.DataFrame'>\n",
      "DatetimeIndex: 3850780 entries, 2005-02-01 00:01:14 to 2015-06-26 23:59:45\n",
      "Data columns (total 33 columns):\n",
      "B1in (C)                    float64\n",
      "B1out (C)                   float64\n",
      "B2in (C)                    float64\n",
      "B2out (C)                   float64\n",
      "B3in (C)                    float64\n",
      "B3out (C)                   float64\n",
      "B4in (C)                    float64\n",
      "B4out (C)                   float64\n",
      "B5in (C)                    float64\n",
      "B5out (C)                   float64\n",
      "B6_1 (C)                    float64\n",
      "B6_2 (C)                    float64\n",
      "B6_3 (C)                    float64\n",
      "B6_4 (C)                    float64\n",
      "B6_5 (C)                    float64\n",
      "B6_6 (C)                    float64\n",
      "B6_7 (C)                    float64\n",
      "B6in (C)                    float64\n",
      "B6out (C)                   float64\n",
      "Mass Flow Rate EC (kg/h)    float64\n",
      "Mass Flow Rate IC (kg/h)    float64\n",
      "P_EC(kW)                    float64\n",
      "P_ECP(kW)                   float64\n",
      "P_IC(kW)                    float64\n",
      "P_ICP(kW)                   float64\n",
      "Representative Data         object\n",
      "STD/OPT                     object\n",
      "Sys Working                 object\n",
      "TinEC (C)                   float64\n",
      "TinIC (C)                   float64\n",
      "ToutEC (C)                  float64\n",
      "ToutIC (C)                  float64\n",
      "Ttank (C)                   float64\n",
      "dtypes: float64(30), object(3)\n",
      "memory usage: 998.9+ MB\n"
     ]
    }
   ],
   "source": [
    "df.info()"
   ]
  },
  {
   "cell_type": "code",
   "execution_count": 37,
   "metadata": {},
   "outputs": [],
   "source": [
    "def is_heat_pump_on(row, threshold):\n",
    "    if row < threshold:\n",
    "        return 0\n",
    "    else:\n",
    "        return 1"
   ]
  },
  {
   "cell_type": "code",
   "execution_count": 38,
   "metadata": {},
   "outputs": [],
   "source": [
    "df['Is HP On'] = df['P_EC(kW)'].apply(lambda row: is_heat_pump_on(row, 0.05))"
   ]
  },
  {
   "cell_type": "code",
   "execution_count": 39,
   "metadata": {},
   "outputs": [
    {
     "data": {
      "text/html": [
       "<div>\n",
       "<style scoped>\n",
       "    .dataframe tbody tr th:only-of-type {\n",
       "        vertical-align: middle;\n",
       "    }\n",
       "\n",
       "    .dataframe tbody tr th {\n",
       "        vertical-align: top;\n",
       "    }\n",
       "\n",
       "    .dataframe thead th {\n",
       "        text-align: right;\n",
       "    }\n",
       "</style>\n",
       "<table border=\"1\" class=\"dataframe\">\n",
       "  <thead>\n",
       "    <tr style=\"text-align: right;\">\n",
       "      <th></th>\n",
       "      <th>B1in (C)</th>\n",
       "      <th>B1out (C)</th>\n",
       "      <th>B2in (C)</th>\n",
       "      <th>B2out (C)</th>\n",
       "      <th>B3in (C)</th>\n",
       "      <th>B3out (C)</th>\n",
       "      <th>B4in (C)</th>\n",
       "      <th>B4out (C)</th>\n",
       "      <th>B5in (C)</th>\n",
       "      <th>B5out (C)</th>\n",
       "      <th>...</th>\n",
       "      <th>P_ICP(kW)</th>\n",
       "      <th>Representative Data</th>\n",
       "      <th>STD/OPT</th>\n",
       "      <th>Sys Working</th>\n",
       "      <th>TinEC (C)</th>\n",
       "      <th>TinIC (C)</th>\n",
       "      <th>ToutEC (C)</th>\n",
       "      <th>ToutIC (C)</th>\n",
       "      <th>Ttank (C)</th>\n",
       "      <th>Is HP On</th>\n",
       "    </tr>\n",
       "    <tr>\n",
       "      <th>Date</th>\n",
       "      <th></th>\n",
       "      <th></th>\n",
       "      <th></th>\n",
       "      <th></th>\n",
       "      <th></th>\n",
       "      <th></th>\n",
       "      <th></th>\n",
       "      <th></th>\n",
       "      <th></th>\n",
       "      <th></th>\n",
       "      <th></th>\n",
       "      <th></th>\n",
       "      <th></th>\n",
       "      <th></th>\n",
       "      <th></th>\n",
       "      <th></th>\n",
       "      <th></th>\n",
       "      <th></th>\n",
       "      <th></th>\n",
       "      <th></th>\n",
       "      <th></th>\n",
       "    </tr>\n",
       "  </thead>\n",
       "  <tbody>\n",
       "    <tr>\n",
       "      <th>2005-02-01 00:01:14</th>\n",
       "      <td>33.534</td>\n",
       "      <td>38.276</td>\n",
       "      <td>19.074</td>\n",
       "      <td>19.065</td>\n",
       "      <td>0.09010</td>\n",
       "      <td>2783.87875</td>\n",
       "      <td>0.000608</td>\n",
       "      <td>0.31464</td>\n",
       "      <td>18.953</td>\n",
       "      <td>19.13</td>\n",
       "      <td>...</td>\n",
       "      <td>NaN</td>\n",
       "      <td>YES</td>\n",
       "      <td>NaN</td>\n",
       "      <td>ON</td>\n",
       "      <td>18.363</td>\n",
       "      <td>18.401</td>\n",
       "      <td>18.647</td>\n",
       "      <td>18.927</td>\n",
       "      <td>NaN</td>\n",
       "      <td>0</td>\n",
       "    </tr>\n",
       "    <tr>\n",
       "      <th>2005-02-01 00:02:14</th>\n",
       "      <td>33.539</td>\n",
       "      <td>38.207</td>\n",
       "      <td>19.076</td>\n",
       "      <td>19.063</td>\n",
       "      <td>0.08495</td>\n",
       "      <td>2782.90075</td>\n",
       "      <td>0.000641</td>\n",
       "      <td>0.31467</td>\n",
       "      <td>18.936</td>\n",
       "      <td>19.13</td>\n",
       "      <td>...</td>\n",
       "      <td>NaN</td>\n",
       "      <td>YES</td>\n",
       "      <td>NaN</td>\n",
       "      <td>ON</td>\n",
       "      <td>18.353</td>\n",
       "      <td>18.395</td>\n",
       "      <td>18.665</td>\n",
       "      <td>18.931</td>\n",
       "      <td>NaN</td>\n",
       "      <td>0</td>\n",
       "    </tr>\n",
       "  </tbody>\n",
       "</table>\n",
       "<p>2 rows × 34 columns</p>\n",
       "</div>"
      ],
      "text/plain": [
       "                     B1in (C)  B1out (C)  B2in (C)  B2out (C)  B3in (C)  \\\n",
       "Date                                                                      \n",
       "2005-02-01 00:01:14    33.534     38.276    19.074     19.065   0.09010   \n",
       "2005-02-01 00:02:14    33.539     38.207    19.076     19.063   0.08495   \n",
       "\n",
       "                      B3out (C)  B4in (C)  B4out (C)  B5in (C)  B5out (C)  \\\n",
       "Date                                                                        \n",
       "2005-02-01 00:01:14  2783.87875  0.000608    0.31464    18.953      19.13   \n",
       "2005-02-01 00:02:14  2782.90075  0.000641    0.31467    18.936      19.13   \n",
       "\n",
       "                       ...     P_ICP(kW)  Representative Data  STD/OPT  \\\n",
       "Date                   ...                                               \n",
       "2005-02-01 00:01:14    ...           NaN                  YES      NaN   \n",
       "2005-02-01 00:02:14    ...           NaN                  YES      NaN   \n",
       "\n",
       "                     Sys Working  TinEC (C)  TinIC (C)  ToutEC (C)  \\\n",
       "Date                                                                 \n",
       "2005-02-01 00:01:14           ON     18.363     18.401      18.647   \n",
       "2005-02-01 00:02:14           ON     18.353     18.395      18.665   \n",
       "\n",
       "                     ToutIC (C)  Ttank (C)  Is HP On  \n",
       "Date                                                  \n",
       "2005-02-01 00:01:14      18.927        NaN         0  \n",
       "2005-02-01 00:02:14      18.931        NaN         0  \n",
       "\n",
       "[2 rows x 34 columns]"
      ]
     },
     "execution_count": 39,
     "metadata": {},
     "output_type": "execute_result"
    }
   ],
   "source": [
    "df.head(2)"
   ]
  },
  {
   "cell_type": "code",
   "execution_count": 40,
   "metadata": {},
   "outputs": [],
   "source": [
    "# To aggregate the data into hourly blocks, see the the pd.resample function:\n",
    "# http://pandas.pydata.org/pandas-docs/version/0.20.2/generated/pandas.DataFrame.resample.html\n",
    "\n",
    "# pd.groupby may also work\n",
    "\n",
    "# Resample data at 60 minute intervals\n",
    "df = df.resample('60T').mean()\n",
    "\n",
    "# 'Is HP On' becomes 'RT Fraction'\n",
    "df.columns = df.columns.str.replace('Is HP On', 'RT Fraction')"
   ]
  },
  {
   "cell_type": "code",
   "execution_count": 41,
   "metadata": {},
   "outputs": [
    {
     "data": {
      "text/plain": [
       "Index(['B1in (C)', 'B1out (C)', 'B2in (C)', 'B2out (C)', 'B3in (C)',\n",
       "       'B3out (C)', 'B4in (C)', 'B4out (C)', 'B5in (C)', 'B5out (C)',\n",
       "       'B6_1 (C)', 'B6_2 (C)', 'B6_3 (C)', 'B6_4 (C)', 'B6_5 (C)', 'B6_6 (C)',\n",
       "       'B6_7 (C)', 'B6in (C)', 'B6out (C)', 'Mass Flow Rate EC (kg/h)',\n",
       "       'Mass Flow Rate IC (kg/h)', 'P_EC(kW)', 'P_ECP(kW)', 'P_IC(kW)',\n",
       "       'P_ICP(kW)', 'TinEC (C)', 'TinIC (C)', 'ToutEC (C)', 'ToutIC (C)',\n",
       "       'Ttank (C)', 'RT Fraction'],\n",
       "      dtype='object')"
      ]
     },
     "execution_count": 41,
     "metadata": {},
     "output_type": "execute_result"
    }
   ],
   "source": [
    "df.columns"
   ]
  },
  {
   "cell_type": "code",
   "execution_count": 42,
   "metadata": {},
   "outputs": [
    {
     "name": "stderr",
     "output_type": "stream",
     "text": [
      "C:\\ProgramData\\Anaconda3\\lib\\site-packages\\pandas\\plotting\\_core.py:1716: UserWarning: Pandas doesn't allow columns to be created via a new attribute name - see https://pandas.pydata.org/pandas-docs/stable/indexing.html#attribute-access\n",
      "  series.name = label\n"
     ]
    },
    {
     "data": {
      "text/plain": [
       "<matplotlib.axes._subplots.AxesSubplot at 0xcc9ae10>"
      ]
     },
     "execution_count": 42,
     "metadata": {},
     "output_type": "execute_result"
    },
    {
     "data": {
      "image/png": "[encoded data removed]",
      "text/plain": [
       "<Figure size 432x288 with 1 Axes>"
      ]
     },
     "metadata": {},
     "output_type": "display_data"
    }
   ],
   "source": [
    "df.plot(y=['RT Fraction'])"
   ]
  },
  {
   "cell_type": "code",
   "execution_count": 43,
   "metadata": {},
   "outputs": [],
   "source": [
    "mask_rt_frac = df['RT Fraction'] > 0.9\n",
    "df = df[mask_rt_frac]"
   ]
  },
  {
   "cell_type": "code",
   "execution_count": 44,
   "metadata": {},
   "outputs": [
    {
     "name": "stderr",
     "output_type": "stream",
     "text": [
      "C:\\ProgramData\\Anaconda3\\lib\\site-packages\\pandas\\plotting\\_core.py:1716: UserWarning: Pandas doesn't allow columns to be created via a new attribute name - see https://pandas.pydata.org/pandas-docs/stable/indexing.html#attribute-access\n",
      "  series.name = label\n"
     ]
    },
    {
     "data": {
      "text/plain": [
       "<matplotlib.axes._subplots.AxesSubplot at 0xdd445f8>"
      ]
     },
     "execution_count": 44,
     "metadata": {},
     "output_type": "execute_result"
    },
    {
     "data": {
      "image/png": "[encoded data removed]",
      "text/plain": [
       "<Figure size 432x288 with 1 Axes>"
      ]
     },
     "metadata": {},
     "output_type": "display_data"
    }
   ],
   "source": [
    "df.plot(y=['RT Fraction'])"
   ]
  },
  {
   "cell_type": "code",
   "execution_count": 45,
   "metadata": {},
   "outputs": [
    {
     "name": "stderr",
     "output_type": "stream",
     "text": [
      "C:\\ProgramData\\Anaconda3\\lib\\site-packages\\pandas\\plotting\\_core.py:1716: UserWarning: Pandas doesn't allow columns to be created via a new attribute name - see https://pandas.pydata.org/pandas-docs/stable/indexing.html#attribute-access\n",
      "  series.name = label\n"
     ]
    },
    {
     "data": {
      "text/plain": [
       "<matplotlib.axes._subplots.AxesSubplot at 0xde1ada0>"
      ]
     },
     "execution_count": 45,
     "metadata": {},
     "output_type": "execute_result"
    },
    {
     "data": {
      "image/png": "[encoded data removed]",
      "text/plain": [
       "<Figure size 432x288 with 1 Axes>"
      ]
     },
     "metadata": {},
     "output_type": "display_data"
    }
   ],
   "source": [
    "df.plot(y=['Mass Flow Rate IC (kg/h)'])"
   ]
  },
  {
   "cell_type": "code",
   "execution_count": 46,
   "metadata": {},
   "outputs": [],
   "source": [
    "mask_flow_rate = df['Mass Flow Rate IC (kg/h)'] > 500\n",
    "df = df[mask_flow_rate]"
   ]
  },
  {
   "cell_type": "code",
   "execution_count": 47,
   "metadata": {},
   "outputs": [
    {
     "name": "stderr",
     "output_type": "stream",
     "text": [
      "C:\\ProgramData\\Anaconda3\\lib\\site-packages\\pandas\\plotting\\_core.py:1716: UserWarning: Pandas doesn't allow columns to be created via a new attribute name - see https://pandas.pydata.org/pandas-docs/stable/indexing.html#attribute-access\n",
      "  series.name = label\n"
     ]
    },
    {
     "data": {
      "text/plain": [
       "<matplotlib.axes._subplots.AxesSubplot at 0xe0b8898>"
      ]
     },
     "execution_count": 47,
     "metadata": {},
     "output_type": "execute_result"
    },
    {
     "data": {
      "image/png": "[encoded data removed]",
      "text/plain": [
       "<Figure size 432x288 with 1 Axes>"
      ]
     },
     "metadata": {},
     "output_type": "display_data"
    }
   ],
   "source": [
    "df.plot(y=['Mass Flow Rate IC (kg/h)'])"
   ]
  },
  {
   "cell_type": "code",
   "execution_count": 48,
   "metadata": {},
   "outputs": [],
   "source": [
    "def get_cp(temp):\n",
    "    temp_in_k = temp + 273.15\n",
    "    return PropsSI('C', 'T', temp_in_k, 'P', 101325, 'Water') / 1000"
   ]
  },
  {
   "cell_type": "code",
   "execution_count": 49,
   "metadata": {},
   "outputs": [
    {
     "data": {
      "text/html": [
       "<div>\n",
       "<style scoped>\n",
       "    .dataframe tbody tr th:only-of-type {\n",
       "        vertical-align: middle;\n",
       "    }\n",
       "\n",
       "    .dataframe tbody tr th {\n",
       "        vertical-align: top;\n",
       "    }\n",
       "\n",
       "    .dataframe thead th {\n",
       "        text-align: right;\n",
       "    }\n",
       "</style>\n",
       "<table border=\"1\" class=\"dataframe\">\n",
       "  <thead>\n",
       "    <tr style=\"text-align: right;\">\n",
       "      <th></th>\n",
       "      <th>B1in (C)</th>\n",
       "      <th>B1out (C)</th>\n",
       "      <th>B2in (C)</th>\n",
       "      <th>B2out (C)</th>\n",
       "      <th>B3in (C)</th>\n",
       "      <th>B3out (C)</th>\n",
       "      <th>B4in (C)</th>\n",
       "      <th>B4out (C)</th>\n",
       "      <th>B5in (C)</th>\n",
       "      <th>B5out (C)</th>\n",
       "      <th>...</th>\n",
       "      <th>P_ECP(kW)</th>\n",
       "      <th>P_IC(kW)</th>\n",
       "      <th>P_ICP(kW)</th>\n",
       "      <th>TinEC (C)</th>\n",
       "      <th>TinIC (C)</th>\n",
       "      <th>ToutEC (C)</th>\n",
       "      <th>ToutIC (C)</th>\n",
       "      <th>Ttank (C)</th>\n",
       "      <th>RT Fraction</th>\n",
       "      <th>IC Mean Temp (C)</th>\n",
       "    </tr>\n",
       "    <tr>\n",
       "      <th>Date</th>\n",
       "      <th></th>\n",
       "      <th></th>\n",
       "      <th></th>\n",
       "      <th></th>\n",
       "      <th></th>\n",
       "      <th></th>\n",
       "      <th></th>\n",
       "      <th></th>\n",
       "      <th></th>\n",
       "      <th></th>\n",
       "      <th></th>\n",
       "      <th></th>\n",
       "      <th></th>\n",
       "      <th></th>\n",
       "      <th></th>\n",
       "      <th></th>\n",
       "      <th></th>\n",
       "      <th></th>\n",
       "      <th></th>\n",
       "      <th></th>\n",
       "      <th></th>\n",
       "    </tr>\n",
       "  </thead>\n",
       "  <tbody>\n",
       "    <tr>\n",
       "      <th>2005-02-01 14:00:00</th>\n",
       "      <td>46.426717</td>\n",
       "      <td>44.167517</td>\n",
       "      <td>14.881250</td>\n",
       "      <td>16.940617</td>\n",
       "      <td>3203.355129</td>\n",
       "      <td>2795.749650</td>\n",
       "      <td>2.512922</td>\n",
       "      <td>1.035336</td>\n",
       "      <td>15.571733</td>\n",
       "      <td>16.88725</td>\n",
       "      <td>...</td>\n",
       "      <td>NaN</td>\n",
       "      <td>1.035532</td>\n",
       "      <td>NaN</td>\n",
       "      <td>17.272667</td>\n",
       "      <td>15.737450</td>\n",
       "      <td>16.685867</td>\n",
       "      <td>16.631283</td>\n",
       "      <td>NaN</td>\n",
       "      <td>1.0</td>\n",
       "      <td>16.184367</td>\n",
       "    </tr>\n",
       "    <tr>\n",
       "      <th>2005-02-01 15:00:00</th>\n",
       "      <td>46.250100</td>\n",
       "      <td>44.492417</td>\n",
       "      <td>15.446033</td>\n",
       "      <td>17.046017</td>\n",
       "      <td>3194.921213</td>\n",
       "      <td>2796.079038</td>\n",
       "      <td>2.008052</td>\n",
       "      <td>1.017962</td>\n",
       "      <td>15.334133</td>\n",
       "      <td>16.94085</td>\n",
       "      <td>...</td>\n",
       "      <td>NaN</td>\n",
       "      <td>1.018430</td>\n",
       "      <td>NaN</td>\n",
       "      <td>17.273300</td>\n",
       "      <td>15.812633</td>\n",
       "      <td>16.743167</td>\n",
       "      <td>16.671967</td>\n",
       "      <td>NaN</td>\n",
       "      <td>1.0</td>\n",
       "      <td>16.242300</td>\n",
       "    </tr>\n",
       "  </tbody>\n",
       "</table>\n",
       "<p>2 rows × 32 columns</p>\n",
       "</div>"
      ],
      "text/plain": [
       "                      B1in (C)  B1out (C)   B2in (C)  B2out (C)     B3in (C)  \\\n",
       "Date                                                                           \n",
       "2005-02-01 14:00:00  46.426717  44.167517  14.881250  16.940617  3203.355129   \n",
       "2005-02-01 15:00:00  46.250100  44.492417  15.446033  17.046017  3194.921213   \n",
       "\n",
       "                       B3out (C)  B4in (C)  B4out (C)   B5in (C)  B5out (C)  \\\n",
       "Date                                                                          \n",
       "2005-02-01 14:00:00  2795.749650  2.512922   1.035336  15.571733   16.88725   \n",
       "2005-02-01 15:00:00  2796.079038  2.008052   1.017962  15.334133   16.94085   \n",
       "\n",
       "                           ...         P_ECP(kW)  P_IC(kW)  P_ICP(kW)  \\\n",
       "Date                       ...                                          \n",
       "2005-02-01 14:00:00        ...               NaN  1.035532        NaN   \n",
       "2005-02-01 15:00:00        ...               NaN  1.018430        NaN   \n",
       "\n",
       "                     TinEC (C)  TinIC (C)  ToutEC (C)  ToutIC (C)  Ttank (C)  \\\n",
       "Date                                                                           \n",
       "2005-02-01 14:00:00  17.272667  15.737450   16.685867   16.631283        NaN   \n",
       "2005-02-01 15:00:00  17.273300  15.812633   16.743167   16.671967        NaN   \n",
       "\n",
       "                     RT Fraction  IC Mean Temp (C)  \n",
       "Date                                                \n",
       "2005-02-01 14:00:00          1.0         16.184367  \n",
       "2005-02-01 15:00:00          1.0         16.242300  \n",
       "\n",
       "[2 rows x 32 columns]"
      ]
     },
     "execution_count": 49,
     "metadata": {},
     "output_type": "execute_result"
    }
   ],
   "source": [
    "df['IC Mean Temp (C)'] = (df['TinIC (C)'] + df['ToutIC (C)']) / 2\n",
    "df.head(2)"
   ]
  },
  {
   "cell_type": "code",
   "execution_count": 50,
   "metadata": {},
   "outputs": [
    {
     "data": {
      "text/html": [
       "<div>\n",
       "<style scoped>\n",
       "    .dataframe tbody tr th:only-of-type {\n",
       "        vertical-align: middle;\n",
       "    }\n",
       "\n",
       "    .dataframe tbody tr th {\n",
       "        vertical-align: top;\n",
       "    }\n",
       "\n",
       "    .dataframe thead th {\n",
       "        text-align: right;\n",
       "    }\n",
       "</style>\n",
       "<table border=\"1\" class=\"dataframe\">\n",
       "  <thead>\n",
       "    <tr style=\"text-align: right;\">\n",
       "      <th></th>\n",
       "      <th>B1in (C)</th>\n",
       "      <th>B1out (C)</th>\n",
       "      <th>B2in (C)</th>\n",
       "      <th>B2out (C)</th>\n",
       "      <th>B3in (C)</th>\n",
       "      <th>B3out (C)</th>\n",
       "      <th>B4in (C)</th>\n",
       "      <th>B4out (C)</th>\n",
       "      <th>B5in (C)</th>\n",
       "      <th>B5out (C)</th>\n",
       "      <th>...</th>\n",
       "      <th>P_ECP(kW)</th>\n",
       "      <th>P_IC(kW)</th>\n",
       "      <th>P_ICP(kW)</th>\n",
       "      <th>TinEC (C)</th>\n",
       "      <th>TinIC (C)</th>\n",
       "      <th>ToutEC (C)</th>\n",
       "      <th>ToutIC (C)</th>\n",
       "      <th>Ttank (C)</th>\n",
       "      <th>RT Fraction</th>\n",
       "      <th>IC Mean Temp (C)</th>\n",
       "    </tr>\n",
       "    <tr>\n",
       "      <th>Date</th>\n",
       "      <th></th>\n",
       "      <th></th>\n",
       "      <th></th>\n",
       "      <th></th>\n",
       "      <th></th>\n",
       "      <th></th>\n",
       "      <th></th>\n",
       "      <th></th>\n",
       "      <th></th>\n",
       "      <th></th>\n",
       "      <th></th>\n",
       "      <th></th>\n",
       "      <th></th>\n",
       "      <th></th>\n",
       "      <th></th>\n",
       "      <th></th>\n",
       "      <th></th>\n",
       "      <th></th>\n",
       "      <th></th>\n",
       "      <th></th>\n",
       "      <th></th>\n",
       "    </tr>\n",
       "  </thead>\n",
       "  <tbody>\n",
       "    <tr>\n",
       "      <th>2005-02-01 14:00:00</th>\n",
       "      <td>46.426717</td>\n",
       "      <td>44.167517</td>\n",
       "      <td>14.881250</td>\n",
       "      <td>16.940617</td>\n",
       "      <td>3203.355129</td>\n",
       "      <td>2795.749650</td>\n",
       "      <td>2.512922</td>\n",
       "      <td>1.035336</td>\n",
       "      <td>15.571733</td>\n",
       "      <td>16.88725</td>\n",
       "      <td>...</td>\n",
       "      <td>NaN</td>\n",
       "      <td>1.035532</td>\n",
       "      <td>NaN</td>\n",
       "      <td>17.272667</td>\n",
       "      <td>15.737450</td>\n",
       "      <td>16.685867</td>\n",
       "      <td>16.631283</td>\n",
       "      <td>NaN</td>\n",
       "      <td>1.0</td>\n",
       "      <td>16.184367</td>\n",
       "    </tr>\n",
       "    <tr>\n",
       "      <th>2005-02-01 15:00:00</th>\n",
       "      <td>46.250100</td>\n",
       "      <td>44.492417</td>\n",
       "      <td>15.446033</td>\n",
       "      <td>17.046017</td>\n",
       "      <td>3194.921213</td>\n",
       "      <td>2796.079038</td>\n",
       "      <td>2.008052</td>\n",
       "      <td>1.017962</td>\n",
       "      <td>15.334133</td>\n",
       "      <td>16.94085</td>\n",
       "      <td>...</td>\n",
       "      <td>NaN</td>\n",
       "      <td>1.018430</td>\n",
       "      <td>NaN</td>\n",
       "      <td>17.273300</td>\n",
       "      <td>15.812633</td>\n",
       "      <td>16.743167</td>\n",
       "      <td>16.671967</td>\n",
       "      <td>NaN</td>\n",
       "      <td>1.0</td>\n",
       "      <td>16.242300</td>\n",
       "    </tr>\n",
       "  </tbody>\n",
       "</table>\n",
       "<p>2 rows × 32 columns</p>\n",
       "</div>"
      ],
      "text/plain": [
       "                      B1in (C)  B1out (C)   B2in (C)  B2out (C)     B3in (C)  \\\n",
       "Date                                                                           \n",
       "2005-02-01 14:00:00  46.426717  44.167517  14.881250  16.940617  3203.355129   \n",
       "2005-02-01 15:00:00  46.250100  44.492417  15.446033  17.046017  3194.921213   \n",
       "\n",
       "                       B3out (C)  B4in (C)  B4out (C)   B5in (C)  B5out (C)  \\\n",
       "Date                                                                          \n",
       "2005-02-01 14:00:00  2795.749650  2.512922   1.035336  15.571733   16.88725   \n",
       "2005-02-01 15:00:00  2796.079038  2.008052   1.017962  15.334133   16.94085   \n",
       "\n",
       "                           ...         P_ECP(kW)  P_IC(kW)  P_ICP(kW)  \\\n",
       "Date                       ...                                          \n",
       "2005-02-01 14:00:00        ...               NaN  1.035532        NaN   \n",
       "2005-02-01 15:00:00        ...               NaN  1.018430        NaN   \n",
       "\n",
       "                     TinEC (C)  TinIC (C)  ToutEC (C)  ToutIC (C)  Ttank (C)  \\\n",
       "Date                                                                           \n",
       "2005-02-01 14:00:00  17.272667  15.737450   16.685867   16.631283        NaN   \n",
       "2005-02-01 15:00:00  17.273300  15.812633   16.743167   16.671967        NaN   \n",
       "\n",
       "                     RT Fraction  IC Mean Temp (C)  \n",
       "Date                                                \n",
       "2005-02-01 14:00:00          1.0         16.184367  \n",
       "2005-02-01 15:00:00          1.0         16.242300  \n",
       "\n",
       "[2 rows x 32 columns]"
      ]
     },
     "execution_count": 50,
     "metadata": {},
     "output_type": "execute_result"
    }
   ],
   "source": [
    "df = df[df['IC Mean Temp (C)'].notnull()]\n",
    "df.head(2)"
   ]
  },
  {
   "cell_type": "code",
   "execution_count": 51,
   "metadata": {},
   "outputs": [
    {
     "data": {
      "text/html": [
       "<div>\n",
       "<style scoped>\n",
       "    .dataframe tbody tr th:only-of-type {\n",
       "        vertical-align: middle;\n",
       "    }\n",
       "\n",
       "    .dataframe tbody tr th {\n",
       "        vertical-align: top;\n",
       "    }\n",
       "\n",
       "    .dataframe thead th {\n",
       "        text-align: right;\n",
       "    }\n",
       "</style>\n",
       "<table border=\"1\" class=\"dataframe\">\n",
       "  <thead>\n",
       "    <tr style=\"text-align: right;\">\n",
       "      <th></th>\n",
       "      <th>B1in (C)</th>\n",
       "      <th>B1out (C)</th>\n",
       "      <th>B2in (C)</th>\n",
       "      <th>B2out (C)</th>\n",
       "      <th>B3in (C)</th>\n",
       "      <th>B3out (C)</th>\n",
       "      <th>B4in (C)</th>\n",
       "      <th>B4out (C)</th>\n",
       "      <th>B5in (C)</th>\n",
       "      <th>B5out (C)</th>\n",
       "      <th>...</th>\n",
       "      <th>P_IC(kW)</th>\n",
       "      <th>P_ICP(kW)</th>\n",
       "      <th>TinEC (C)</th>\n",
       "      <th>TinIC (C)</th>\n",
       "      <th>ToutEC (C)</th>\n",
       "      <th>ToutIC (C)</th>\n",
       "      <th>Ttank (C)</th>\n",
       "      <th>RT Fraction</th>\n",
       "      <th>IC Mean Temp (C)</th>\n",
       "      <th>CP (kJ/kg-K)</th>\n",
       "    </tr>\n",
       "    <tr>\n",
       "      <th>Date</th>\n",
       "      <th></th>\n",
       "      <th></th>\n",
       "      <th></th>\n",
       "      <th></th>\n",
       "      <th></th>\n",
       "      <th></th>\n",
       "      <th></th>\n",
       "      <th></th>\n",
       "      <th></th>\n",
       "      <th></th>\n",
       "      <th></th>\n",
       "      <th></th>\n",
       "      <th></th>\n",
       "      <th></th>\n",
       "      <th></th>\n",
       "      <th></th>\n",
       "      <th></th>\n",
       "      <th></th>\n",
       "      <th></th>\n",
       "      <th></th>\n",
       "      <th></th>\n",
       "    </tr>\n",
       "  </thead>\n",
       "  <tbody>\n",
       "    <tr>\n",
       "      <th>2005-02-01 14:00:00</th>\n",
       "      <td>46.426717</td>\n",
       "      <td>44.167517</td>\n",
       "      <td>14.881250</td>\n",
       "      <td>16.940617</td>\n",
       "      <td>3203.355129</td>\n",
       "      <td>2795.749650</td>\n",
       "      <td>2.512922</td>\n",
       "      <td>1.035336</td>\n",
       "      <td>15.571733</td>\n",
       "      <td>16.88725</td>\n",
       "      <td>...</td>\n",
       "      <td>1.035532</td>\n",
       "      <td>NaN</td>\n",
       "      <td>17.272667</td>\n",
       "      <td>15.737450</td>\n",
       "      <td>16.685867</td>\n",
       "      <td>16.631283</td>\n",
       "      <td>NaN</td>\n",
       "      <td>1.0</td>\n",
       "      <td>16.184367</td>\n",
       "      <td>4.187236</td>\n",
       "    </tr>\n",
       "    <tr>\n",
       "      <th>2005-02-01 15:00:00</th>\n",
       "      <td>46.250100</td>\n",
       "      <td>44.492417</td>\n",
       "      <td>15.446033</td>\n",
       "      <td>17.046017</td>\n",
       "      <td>3194.921213</td>\n",
       "      <td>2796.079038</td>\n",
       "      <td>2.008052</td>\n",
       "      <td>1.017962</td>\n",
       "      <td>15.334133</td>\n",
       "      <td>16.94085</td>\n",
       "      <td>...</td>\n",
       "      <td>1.018430</td>\n",
       "      <td>NaN</td>\n",
       "      <td>17.273300</td>\n",
       "      <td>15.812633</td>\n",
       "      <td>16.743167</td>\n",
       "      <td>16.671967</td>\n",
       "      <td>NaN</td>\n",
       "      <td>1.0</td>\n",
       "      <td>16.242300</td>\n",
       "      <td>4.187179</td>\n",
       "    </tr>\n",
       "  </tbody>\n",
       "</table>\n",
       "<p>2 rows × 33 columns</p>\n",
       "</div>"
      ],
      "text/plain": [
       "                      B1in (C)  B1out (C)   B2in (C)  B2out (C)     B3in (C)  \\\n",
       "Date                                                                           \n",
       "2005-02-01 14:00:00  46.426717  44.167517  14.881250  16.940617  3203.355129   \n",
       "2005-02-01 15:00:00  46.250100  44.492417  15.446033  17.046017  3194.921213   \n",
       "\n",
       "                       B3out (C)  B4in (C)  B4out (C)   B5in (C)  B5out (C)  \\\n",
       "Date                                                                          \n",
       "2005-02-01 14:00:00  2795.749650  2.512922   1.035336  15.571733   16.88725   \n",
       "2005-02-01 15:00:00  2796.079038  2.008052   1.017962  15.334133   16.94085   \n",
       "\n",
       "                         ...       P_IC(kW)  P_ICP(kW)  TinEC (C)  TinIC (C)  \\\n",
       "Date                     ...                                                   \n",
       "2005-02-01 14:00:00      ...       1.035532        NaN  17.272667  15.737450   \n",
       "2005-02-01 15:00:00      ...       1.018430        NaN  17.273300  15.812633   \n",
       "\n",
       "                     ToutEC (C)  ToutIC (C)  Ttank (C)  RT Fraction  \\\n",
       "Date                                                                  \n",
       "2005-02-01 14:00:00   16.685867   16.631283        NaN          1.0   \n",
       "2005-02-01 15:00:00   16.743167   16.671967        NaN          1.0   \n",
       "\n",
       "                     IC Mean Temp (C)  CP (kJ/kg-K)  \n",
       "Date                                                 \n",
       "2005-02-01 14:00:00         16.184367      4.187236  \n",
       "2005-02-01 15:00:00         16.242300      4.187179  \n",
       "\n",
       "[2 rows x 33 columns]"
      ]
     },
     "execution_count": 51,
     "metadata": {},
     "output_type": "execute_result"
    }
   ],
   "source": [
    "df['CP (kJ/kg-K)'] = df['IC Mean Temp (C)'].apply(get_cp)\n",
    "df.head(2)"
   ]
  },
  {
   "cell_type": "code",
   "execution_count": 52,
   "metadata": {},
   "outputs": [
    {
     "data": {
      "text/plain": [
       "[<matplotlib.lines.Line2D at 0xe33bcc0>]"
      ]
     },
     "execution_count": 52,
     "metadata": {},
     "output_type": "execute_result"
    },
    {
     "data": {
      "image/png": "[encoded data removed]",
      "text/plain": [
       "<Figure size 432x288 with 1 Axes>"
      ]
     },
     "metadata": {},
     "output_type": "display_data"
    }
   ],
   "source": [
    "plt.plot(df['TinEC (C)'])"
   ]
  },
  {
   "cell_type": "code",
   "execution_count": 53,
   "metadata": {},
   "outputs": [
    {
     "data": {
      "text/plain": [
       "[<matplotlib.lines.Line2D at 0xe392cf8>]"
      ]
     },
     "execution_count": 53,
     "metadata": {},
     "output_type": "execute_result"
    },
    {
     "data": {
      "image/png": "[encoded data removed]",
      "text/plain": [
       "<Figure size 432x288 with 1 Axes>"
      ]
     },
     "metadata": {},
     "output_type": "display_data"
    }
   ],
   "source": [
    "plt.plot(df['ToutIC (C)'] - df['TinIC (C)'])"
   ]
  },
  {
   "cell_type": "code",
   "execution_count": 54,
   "metadata": {},
   "outputs": [
    {
     "data": {
      "text/html": [
       "<div>\n",
       "<style scoped>\n",
       "    .dataframe tbody tr th:only-of-type {\n",
       "        vertical-align: middle;\n",
       "    }\n",
       "\n",
       "    .dataframe tbody tr th {\n",
       "        vertical-align: top;\n",
       "    }\n",
       "\n",
       "    .dataframe thead th {\n",
       "        text-align: right;\n",
       "    }\n",
       "</style>\n",
       "<table border=\"1\" class=\"dataframe\">\n",
       "  <thead>\n",
       "    <tr style=\"text-align: right;\">\n",
       "      <th></th>\n",
       "      <th>B1in (C)</th>\n",
       "      <th>B1out (C)</th>\n",
       "      <th>B2in (C)</th>\n",
       "      <th>B2out (C)</th>\n",
       "      <th>B3in (C)</th>\n",
       "      <th>B3out (C)</th>\n",
       "      <th>B4in (C)</th>\n",
       "      <th>B4out (C)</th>\n",
       "      <th>B5in (C)</th>\n",
       "      <th>B5out (C)</th>\n",
       "      <th>...</th>\n",
       "      <th>P_IC(kW)</th>\n",
       "      <th>P_ICP(kW)</th>\n",
       "      <th>TinEC (C)</th>\n",
       "      <th>TinIC (C)</th>\n",
       "      <th>ToutEC (C)</th>\n",
       "      <th>ToutIC (C)</th>\n",
       "      <th>Ttank (C)</th>\n",
       "      <th>RT Fraction</th>\n",
       "      <th>IC Mean Temp (C)</th>\n",
       "      <th>CP (kJ/kg-K)</th>\n",
       "    </tr>\n",
       "    <tr>\n",
       "      <th>Date</th>\n",
       "      <th></th>\n",
       "      <th></th>\n",
       "      <th></th>\n",
       "      <th></th>\n",
       "      <th></th>\n",
       "      <th></th>\n",
       "      <th></th>\n",
       "      <th></th>\n",
       "      <th></th>\n",
       "      <th></th>\n",
       "      <th></th>\n",
       "      <th></th>\n",
       "      <th></th>\n",
       "      <th></th>\n",
       "      <th></th>\n",
       "      <th></th>\n",
       "      <th></th>\n",
       "      <th></th>\n",
       "      <th></th>\n",
       "      <th></th>\n",
       "      <th></th>\n",
       "    </tr>\n",
       "  </thead>\n",
       "  <tbody>\n",
       "    <tr>\n",
       "      <th>2005-02-01 14:00:00</th>\n",
       "      <td>46.426717</td>\n",
       "      <td>44.167517</td>\n",
       "      <td>14.881250</td>\n",
       "      <td>16.940617</td>\n",
       "      <td>3203.355129</td>\n",
       "      <td>2795.749650</td>\n",
       "      <td>2.512922</td>\n",
       "      <td>1.035336</td>\n",
       "      <td>15.571733</td>\n",
       "      <td>16.88725</td>\n",
       "      <td>...</td>\n",
       "      <td>1.035532</td>\n",
       "      <td>NaN</td>\n",
       "      <td>17.272667</td>\n",
       "      <td>15.737450</td>\n",
       "      <td>16.685867</td>\n",
       "      <td>16.631283</td>\n",
       "      <td>NaN</td>\n",
       "      <td>1.0</td>\n",
       "      <td>16.184367</td>\n",
       "      <td>4.187236</td>\n",
       "    </tr>\n",
       "    <tr>\n",
       "      <th>2005-02-01 15:00:00</th>\n",
       "      <td>46.250100</td>\n",
       "      <td>44.492417</td>\n",
       "      <td>15.446033</td>\n",
       "      <td>17.046017</td>\n",
       "      <td>3194.921213</td>\n",
       "      <td>2796.079038</td>\n",
       "      <td>2.008052</td>\n",
       "      <td>1.017962</td>\n",
       "      <td>15.334133</td>\n",
       "      <td>16.94085</td>\n",
       "      <td>...</td>\n",
       "      <td>1.018430</td>\n",
       "      <td>NaN</td>\n",
       "      <td>17.273300</td>\n",
       "      <td>15.812633</td>\n",
       "      <td>16.743167</td>\n",
       "      <td>16.671967</td>\n",
       "      <td>NaN</td>\n",
       "      <td>1.0</td>\n",
       "      <td>16.242300</td>\n",
       "      <td>4.187179</td>\n",
       "    </tr>\n",
       "  </tbody>\n",
       "</table>\n",
       "<p>2 rows × 33 columns</p>\n",
       "</div>"
      ],
      "text/plain": [
       "                      B1in (C)  B1out (C)   B2in (C)  B2out (C)     B3in (C)  \\\n",
       "Date                                                                           \n",
       "2005-02-01 14:00:00  46.426717  44.167517  14.881250  16.940617  3203.355129   \n",
       "2005-02-01 15:00:00  46.250100  44.492417  15.446033  17.046017  3194.921213   \n",
       "\n",
       "                       B3out (C)  B4in (C)  B4out (C)   B5in (C)  B5out (C)  \\\n",
       "Date                                                                          \n",
       "2005-02-01 14:00:00  2795.749650  2.512922   1.035336  15.571733   16.88725   \n",
       "2005-02-01 15:00:00  2796.079038  2.008052   1.017962  15.334133   16.94085   \n",
       "\n",
       "                         ...       P_IC(kW)  P_ICP(kW)  TinEC (C)  TinIC (C)  \\\n",
       "Date                     ...                                                   \n",
       "2005-02-01 14:00:00      ...       1.035532        NaN  17.272667  15.737450   \n",
       "2005-02-01 15:00:00      ...       1.018430        NaN  17.273300  15.812633   \n",
       "\n",
       "                     ToutEC (C)  ToutIC (C)  Ttank (C)  RT Fraction  \\\n",
       "Date                                                                  \n",
       "2005-02-01 14:00:00   16.685867   16.631283        NaN          1.0   \n",
       "2005-02-01 15:00:00   16.743167   16.671967        NaN          1.0   \n",
       "\n",
       "                     IC Mean Temp (C)  CP (kJ/kg-K)  \n",
       "Date                                                 \n",
       "2005-02-01 14:00:00         16.184367      4.187236  \n",
       "2005-02-01 15:00:00         16.242300      4.187179  \n",
       "\n",
       "[2 rows x 33 columns]"
      ]
     },
     "execution_count": 54,
     "metadata": {},
     "output_type": "execute_result"
    }
   ],
   "source": [
    "mask_heating = (df['ToutIC (C)'] - df['TinIC (C)']) > 0\n",
    "df_heating = df[mask_heating].copy()\n",
    "df_heating.head(2)"
   ]
  },
  {
   "cell_type": "code",
   "execution_count": 55,
   "metadata": {},
   "outputs": [
    {
     "data": {
      "text/html": [
       "<div>\n",
       "<style scoped>\n",
       "    .dataframe tbody tr th:only-of-type {\n",
       "        vertical-align: middle;\n",
       "    }\n",
       "\n",
       "    .dataframe tbody tr th {\n",
       "        vertical-align: top;\n",
       "    }\n",
       "\n",
       "    .dataframe thead th {\n",
       "        text-align: right;\n",
       "    }\n",
       "</style>\n",
       "<table border=\"1\" class=\"dataframe\">\n",
       "  <thead>\n",
       "    <tr style=\"text-align: right;\">\n",
       "      <th></th>\n",
       "      <th>B1in (C)</th>\n",
       "      <th>B1out (C)</th>\n",
       "      <th>B2in (C)</th>\n",
       "      <th>B2out (C)</th>\n",
       "      <th>B3in (C)</th>\n",
       "      <th>B3out (C)</th>\n",
       "      <th>B4in (C)</th>\n",
       "      <th>B4out (C)</th>\n",
       "      <th>B5in (C)</th>\n",
       "      <th>B5out (C)</th>\n",
       "      <th>...</th>\n",
       "      <th>P_IC(kW)</th>\n",
       "      <th>P_ICP(kW)</th>\n",
       "      <th>TinEC (C)</th>\n",
       "      <th>TinIC (C)</th>\n",
       "      <th>ToutEC (C)</th>\n",
       "      <th>ToutIC (C)</th>\n",
       "      <th>Ttank (C)</th>\n",
       "      <th>RT Fraction</th>\n",
       "      <th>IC Mean Temp (C)</th>\n",
       "      <th>CP (kJ/kg-K)</th>\n",
       "    </tr>\n",
       "    <tr>\n",
       "      <th>Date</th>\n",
       "      <th></th>\n",
       "      <th></th>\n",
       "      <th></th>\n",
       "      <th></th>\n",
       "      <th></th>\n",
       "      <th></th>\n",
       "      <th></th>\n",
       "      <th></th>\n",
       "      <th></th>\n",
       "      <th></th>\n",
       "      <th></th>\n",
       "      <th></th>\n",
       "      <th></th>\n",
       "      <th></th>\n",
       "      <th></th>\n",
       "      <th></th>\n",
       "      <th></th>\n",
       "      <th></th>\n",
       "      <th></th>\n",
       "      <th></th>\n",
       "      <th></th>\n",
       "    </tr>\n",
       "  </thead>\n",
       "  <tbody>\n",
       "    <tr>\n",
       "      <th>2005-02-28 07:00:00</th>\n",
       "      <td>18.441667</td>\n",
       "      <td>18.939033</td>\n",
       "      <td>18.391650</td>\n",
       "      <td>18.596417</td>\n",
       "      <td>18.46495</td>\n",
       "      <td>18.704150</td>\n",
       "      <td>18.498217</td>\n",
       "      <td>18.74005</td>\n",
       "      <td>18.461050</td>\n",
       "      <td>18.709017</td>\n",
       "      <td>...</td>\n",
       "      <td>0.890026</td>\n",
       "      <td>NaN</td>\n",
       "      <td>18.607850</td>\n",
       "      <td>25.310317</td>\n",
       "      <td>18.610783</td>\n",
       "      <td>23.028150</td>\n",
       "      <td>NaN</td>\n",
       "      <td>1.0</td>\n",
       "      <td>24.169233</td>\n",
       "      <td>4.181674</td>\n",
       "    </tr>\n",
       "    <tr>\n",
       "      <th>2005-02-28 08:00:00</th>\n",
       "      <td>18.461083</td>\n",
       "      <td>18.944983</td>\n",
       "      <td>18.411033</td>\n",
       "      <td>18.604333</td>\n",
       "      <td>18.48705</td>\n",
       "      <td>18.712283</td>\n",
       "      <td>18.517283</td>\n",
       "      <td>18.74750</td>\n",
       "      <td>18.480117</td>\n",
       "      <td>18.716283</td>\n",
       "      <td>...</td>\n",
       "      <td>0.876160</td>\n",
       "      <td>NaN</td>\n",
       "      <td>18.622933</td>\n",
       "      <td>35.459450</td>\n",
       "      <td>18.624667</td>\n",
       "      <td>33.061983</td>\n",
       "      <td>NaN</td>\n",
       "      <td>1.0</td>\n",
       "      <td>34.260717</td>\n",
       "      <td>4.179292</td>\n",
       "    </tr>\n",
       "  </tbody>\n",
       "</table>\n",
       "<p>2 rows × 33 columns</p>\n",
       "</div>"
      ],
      "text/plain": [
       "                      B1in (C)  B1out (C)   B2in (C)  B2out (C)  B3in (C)  \\\n",
       "Date                                                                        \n",
       "2005-02-28 07:00:00  18.441667  18.939033  18.391650  18.596417  18.46495   \n",
       "2005-02-28 08:00:00  18.461083  18.944983  18.411033  18.604333  18.48705   \n",
       "\n",
       "                     B3out (C)   B4in (C)  B4out (C)   B5in (C)  B5out (C)  \\\n",
       "Date                                                                         \n",
       "2005-02-28 07:00:00  18.704150  18.498217   18.74005  18.461050  18.709017   \n",
       "2005-02-28 08:00:00  18.712283  18.517283   18.74750  18.480117  18.716283   \n",
       "\n",
       "                         ...       P_IC(kW)  P_ICP(kW)  TinEC (C)  TinIC (C)  \\\n",
       "Date                     ...                                                   \n",
       "2005-02-28 07:00:00      ...       0.890026        NaN  18.607850  25.310317   \n",
       "2005-02-28 08:00:00      ...       0.876160        NaN  18.622933  35.459450   \n",
       "\n",
       "                     ToutEC (C)  ToutIC (C)  Ttank (C)  RT Fraction  \\\n",
       "Date                                                                  \n",
       "2005-02-28 07:00:00   18.610783   23.028150        NaN          1.0   \n",
       "2005-02-28 08:00:00   18.624667   33.061983        NaN          1.0   \n",
       "\n",
       "                     IC Mean Temp (C)  CP (kJ/kg-K)  \n",
       "Date                                                 \n",
       "2005-02-28 07:00:00         24.169233      4.181674  \n",
       "2005-02-28 08:00:00         34.260717      4.179292  \n",
       "\n",
       "[2 rows x 33 columns]"
      ]
     },
     "execution_count": 55,
     "metadata": {},
     "output_type": "execute_result"
    }
   ],
   "source": [
    "mask_cooling = ~mask_heating\n",
    "df_cooling = df[mask_cooling].copy()\n",
    "df_cooling.head(2)"
   ]
  },
  {
   "cell_type": "code",
   "execution_count": 56,
   "metadata": {},
   "outputs": [
    {
     "data": {
      "text/html": [
       "<div>\n",
       "<style scoped>\n",
       "    .dataframe tbody tr th:only-of-type {\n",
       "        vertical-align: middle;\n",
       "    }\n",
       "\n",
       "    .dataframe tbody tr th {\n",
       "        vertical-align: top;\n",
       "    }\n",
       "\n",
       "    .dataframe thead th {\n",
       "        text-align: right;\n",
       "    }\n",
       "</style>\n",
       "<table border=\"1\" class=\"dataframe\">\n",
       "  <thead>\n",
       "    <tr style=\"text-align: right;\">\n",
       "      <th></th>\n",
       "      <th>B1in (C)</th>\n",
       "      <th>B1out (C)</th>\n",
       "      <th>B2in (C)</th>\n",
       "      <th>B2out (C)</th>\n",
       "      <th>B3in (C)</th>\n",
       "      <th>B3out (C)</th>\n",
       "      <th>B4in (C)</th>\n",
       "      <th>B4out (C)</th>\n",
       "      <th>B5in (C)</th>\n",
       "      <th>B5out (C)</th>\n",
       "      <th>...</th>\n",
       "      <th>P_ICP(kW)</th>\n",
       "      <th>TinEC (C)</th>\n",
       "      <th>TinIC (C)</th>\n",
       "      <th>ToutEC (C)</th>\n",
       "      <th>ToutIC (C)</th>\n",
       "      <th>Ttank (C)</th>\n",
       "      <th>RT Fraction</th>\n",
       "      <th>IC Mean Temp (C)</th>\n",
       "      <th>CP (kJ/kg-K)</th>\n",
       "      <th>Cooling Delivered (kW)</th>\n",
       "    </tr>\n",
       "    <tr>\n",
       "      <th>Date</th>\n",
       "      <th></th>\n",
       "      <th></th>\n",
       "      <th></th>\n",
       "      <th></th>\n",
       "      <th></th>\n",
       "      <th></th>\n",
       "      <th></th>\n",
       "      <th></th>\n",
       "      <th></th>\n",
       "      <th></th>\n",
       "      <th></th>\n",
       "      <th></th>\n",
       "      <th></th>\n",
       "      <th></th>\n",
       "      <th></th>\n",
       "      <th></th>\n",
       "      <th></th>\n",
       "      <th></th>\n",
       "      <th></th>\n",
       "      <th></th>\n",
       "      <th></th>\n",
       "    </tr>\n",
       "  </thead>\n",
       "  <tbody>\n",
       "    <tr>\n",
       "      <th>2005-02-28 07:00:00</th>\n",
       "      <td>18.441667</td>\n",
       "      <td>18.939033</td>\n",
       "      <td>18.391650</td>\n",
       "      <td>18.596417</td>\n",
       "      <td>18.46495</td>\n",
       "      <td>18.704150</td>\n",
       "      <td>18.498217</td>\n",
       "      <td>18.74005</td>\n",
       "      <td>18.461050</td>\n",
       "      <td>18.709017</td>\n",
       "      <td>...</td>\n",
       "      <td>NaN</td>\n",
       "      <td>18.607850</td>\n",
       "      <td>25.310317</td>\n",
       "      <td>18.610783</td>\n",
       "      <td>23.028150</td>\n",
       "      <td>NaN</td>\n",
       "      <td>1.0</td>\n",
       "      <td>24.169233</td>\n",
       "      <td>4.181674</td>\n",
       "      <td>8.277969</td>\n",
       "    </tr>\n",
       "    <tr>\n",
       "      <th>2005-02-28 08:00:00</th>\n",
       "      <td>18.461083</td>\n",
       "      <td>18.944983</td>\n",
       "      <td>18.411033</td>\n",
       "      <td>18.604333</td>\n",
       "      <td>18.48705</td>\n",
       "      <td>18.712283</td>\n",
       "      <td>18.517283</td>\n",
       "      <td>18.74750</td>\n",
       "      <td>18.480117</td>\n",
       "      <td>18.716283</td>\n",
       "      <td>...</td>\n",
       "      <td>NaN</td>\n",
       "      <td>18.622933</td>\n",
       "      <td>35.459450</td>\n",
       "      <td>18.624667</td>\n",
       "      <td>33.061983</td>\n",
       "      <td>NaN</td>\n",
       "      <td>1.0</td>\n",
       "      <td>34.260717</td>\n",
       "      <td>4.179292</td>\n",
       "      <td>8.731681</td>\n",
       "    </tr>\n",
       "  </tbody>\n",
       "</table>\n",
       "<p>2 rows × 34 columns</p>\n",
       "</div>"
      ],
      "text/plain": [
       "                      B1in (C)  B1out (C)   B2in (C)  B2out (C)  B3in (C)  \\\n",
       "Date                                                                        \n",
       "2005-02-28 07:00:00  18.441667  18.939033  18.391650  18.596417  18.46495   \n",
       "2005-02-28 08:00:00  18.461083  18.944983  18.411033  18.604333  18.48705   \n",
       "\n",
       "                     B3out (C)   B4in (C)  B4out (C)   B5in (C)  B5out (C)  \\\n",
       "Date                                                                         \n",
       "2005-02-28 07:00:00  18.704150  18.498217   18.74005  18.461050  18.709017   \n",
       "2005-02-28 08:00:00  18.712283  18.517283   18.74750  18.480117  18.716283   \n",
       "\n",
       "                              ...            P_ICP(kW)  TinEC (C)  TinIC (C)  \\\n",
       "Date                          ...                                              \n",
       "2005-02-28 07:00:00           ...                  NaN  18.607850  25.310317   \n",
       "2005-02-28 08:00:00           ...                  NaN  18.622933  35.459450   \n",
       "\n",
       "                     ToutEC (C)  ToutIC (C)  Ttank (C)  RT Fraction  \\\n",
       "Date                                                                  \n",
       "2005-02-28 07:00:00   18.610783   23.028150        NaN          1.0   \n",
       "2005-02-28 08:00:00   18.624667   33.061983        NaN          1.0   \n",
       "\n",
       "                     IC Mean Temp (C)  CP (kJ/kg-K)  Cooling Delivered (kW)  \n",
       "Date                                                                         \n",
       "2005-02-28 07:00:00         24.169233      4.181674                8.277969  \n",
       "2005-02-28 08:00:00         34.260717      4.179292                8.731681  \n",
       "\n",
       "[2 rows x 34 columns]"
      ]
     },
     "execution_count": 56,
     "metadata": {},
     "output_type": "execute_result"
    }
   ],
   "source": [
    "df_cooling['Cooling Delivered (kW)'] = df_cooling['Mass Flow Rate IC (kg/h)'] * df_cooling['CP (kJ/kg-K)'] * abs(df_cooling['TinIC (C)'] - df_cooling['ToutIC (C)']) / 3600\n",
    "df_cooling.head(2)"
   ]
  },
  {
   "cell_type": "code",
   "execution_count": 57,
   "metadata": {},
   "outputs": [
    {
     "data": {
      "text/html": [
       "<div>\n",
       "<style scoped>\n",
       "    .dataframe tbody tr th:only-of-type {\n",
       "        vertical-align: middle;\n",
       "    }\n",
       "\n",
       "    .dataframe tbody tr th {\n",
       "        vertical-align: top;\n",
       "    }\n",
       "\n",
       "    .dataframe thead th {\n",
       "        text-align: right;\n",
       "    }\n",
       "</style>\n",
       "<table border=\"1\" class=\"dataframe\">\n",
       "  <thead>\n",
       "    <tr style=\"text-align: right;\">\n",
       "      <th></th>\n",
       "      <th>B1in (C)</th>\n",
       "      <th>B1out (C)</th>\n",
       "      <th>B2in (C)</th>\n",
       "      <th>B2out (C)</th>\n",
       "      <th>B3in (C)</th>\n",
       "      <th>B3out (C)</th>\n",
       "      <th>B4in (C)</th>\n",
       "      <th>B4out (C)</th>\n",
       "      <th>B5in (C)</th>\n",
       "      <th>B5out (C)</th>\n",
       "      <th>...</th>\n",
       "      <th>P_ICP(kW)</th>\n",
       "      <th>TinEC (C)</th>\n",
       "      <th>TinIC (C)</th>\n",
       "      <th>ToutEC (C)</th>\n",
       "      <th>ToutIC (C)</th>\n",
       "      <th>Ttank (C)</th>\n",
       "      <th>RT Fraction</th>\n",
       "      <th>IC Mean Temp (C)</th>\n",
       "      <th>CP (kJ/kg-K)</th>\n",
       "      <th>Heating Delivered (kW)</th>\n",
       "    </tr>\n",
       "    <tr>\n",
       "      <th>Date</th>\n",
       "      <th></th>\n",
       "      <th></th>\n",
       "      <th></th>\n",
       "      <th></th>\n",
       "      <th></th>\n",
       "      <th></th>\n",
       "      <th></th>\n",
       "      <th></th>\n",
       "      <th></th>\n",
       "      <th></th>\n",
       "      <th></th>\n",
       "      <th></th>\n",
       "      <th></th>\n",
       "      <th></th>\n",
       "      <th></th>\n",
       "      <th></th>\n",
       "      <th></th>\n",
       "      <th></th>\n",
       "      <th></th>\n",
       "      <th></th>\n",
       "      <th></th>\n",
       "    </tr>\n",
       "  </thead>\n",
       "  <tbody>\n",
       "    <tr>\n",
       "      <th>2005-02-01 14:00:00</th>\n",
       "      <td>46.426717</td>\n",
       "      <td>44.167517</td>\n",
       "      <td>14.881250</td>\n",
       "      <td>16.940617</td>\n",
       "      <td>3203.355129</td>\n",
       "      <td>2795.749650</td>\n",
       "      <td>2.512922</td>\n",
       "      <td>1.035336</td>\n",
       "      <td>15.571733</td>\n",
       "      <td>16.88725</td>\n",
       "      <td>...</td>\n",
       "      <td>NaN</td>\n",
       "      <td>17.272667</td>\n",
       "      <td>15.737450</td>\n",
       "      <td>16.685867</td>\n",
       "      <td>16.631283</td>\n",
       "      <td>NaN</td>\n",
       "      <td>1.0</td>\n",
       "      <td>16.184367</td>\n",
       "      <td>4.187236</td>\n",
       "      <td>3.330325</td>\n",
       "    </tr>\n",
       "    <tr>\n",
       "      <th>2005-02-01 15:00:00</th>\n",
       "      <td>46.250100</td>\n",
       "      <td>44.492417</td>\n",
       "      <td>15.446033</td>\n",
       "      <td>17.046017</td>\n",
       "      <td>3194.921213</td>\n",
       "      <td>2796.079038</td>\n",
       "      <td>2.008052</td>\n",
       "      <td>1.017962</td>\n",
       "      <td>15.334133</td>\n",
       "      <td>16.94085</td>\n",
       "      <td>...</td>\n",
       "      <td>NaN</td>\n",
       "      <td>17.273300</td>\n",
       "      <td>15.812633</td>\n",
       "      <td>16.743167</td>\n",
       "      <td>16.671967</td>\n",
       "      <td>NaN</td>\n",
       "      <td>1.0</td>\n",
       "      <td>16.242300</td>\n",
       "      <td>4.187179</td>\n",
       "      <td>3.193308</td>\n",
       "    </tr>\n",
       "  </tbody>\n",
       "</table>\n",
       "<p>2 rows × 34 columns</p>\n",
       "</div>"
      ],
      "text/plain": [
       "                      B1in (C)  B1out (C)   B2in (C)  B2out (C)     B3in (C)  \\\n",
       "Date                                                                           \n",
       "2005-02-01 14:00:00  46.426717  44.167517  14.881250  16.940617  3203.355129   \n",
       "2005-02-01 15:00:00  46.250100  44.492417  15.446033  17.046017  3194.921213   \n",
       "\n",
       "                       B3out (C)  B4in (C)  B4out (C)   B5in (C)  B5out (C)  \\\n",
       "Date                                                                          \n",
       "2005-02-01 14:00:00  2795.749650  2.512922   1.035336  15.571733   16.88725   \n",
       "2005-02-01 15:00:00  2796.079038  2.008052   1.017962  15.334133   16.94085   \n",
       "\n",
       "                              ...            P_ICP(kW)  TinEC (C)  TinIC (C)  \\\n",
       "Date                          ...                                              \n",
       "2005-02-01 14:00:00           ...                  NaN  17.272667  15.737450   \n",
       "2005-02-01 15:00:00           ...                  NaN  17.273300  15.812633   \n",
       "\n",
       "                     ToutEC (C)  ToutIC (C)  Ttank (C)  RT Fraction  \\\n",
       "Date                                                                  \n",
       "2005-02-01 14:00:00   16.685867   16.631283        NaN          1.0   \n",
       "2005-02-01 15:00:00   16.743167   16.671967        NaN          1.0   \n",
       "\n",
       "                     IC Mean Temp (C)  CP (kJ/kg-K)  Heating Delivered (kW)  \n",
       "Date                                                                         \n",
       "2005-02-01 14:00:00         16.184367      4.187236                3.330325  \n",
       "2005-02-01 15:00:00         16.242300      4.187179                3.193308  \n",
       "\n",
       "[2 rows x 34 columns]"
      ]
     },
     "execution_count": 57,
     "metadata": {},
     "output_type": "execute_result"
    }
   ],
   "source": [
    "df_heating['Heating Delivered (kW)'] = df_heating['Mass Flow Rate IC (kg/h)'] * df_heating['CP (kJ/kg-K)'] * abs(df_heating['TinIC (C)'] - df_heating['ToutIC (C)']) / 3600\n",
    "df_heating.head(2)"
   ]
  },
  {
   "cell_type": "code",
   "execution_count": 58,
   "metadata": {},
   "outputs": [
    {
     "data": {
      "text/html": [
       "<div>\n",
       "<style scoped>\n",
       "    .dataframe tbody tr th:only-of-type {\n",
       "        vertical-align: middle;\n",
       "    }\n",
       "\n",
       "    .dataframe tbody tr th {\n",
       "        vertical-align: top;\n",
       "    }\n",
       "\n",
       "    .dataframe thead th {\n",
       "        text-align: right;\n",
       "    }\n",
       "</style>\n",
       "<table border=\"1\" class=\"dataframe\">\n",
       "  <thead>\n",
       "    <tr style=\"text-align: right;\">\n",
       "      <th></th>\n",
       "      <th>B1in (C)</th>\n",
       "      <th>B1out (C)</th>\n",
       "      <th>B2in (C)</th>\n",
       "      <th>B2out (C)</th>\n",
       "      <th>B3in (C)</th>\n",
       "      <th>B3out (C)</th>\n",
       "      <th>B4in (C)</th>\n",
       "      <th>B4out (C)</th>\n",
       "      <th>B5in (C)</th>\n",
       "      <th>B5out (C)</th>\n",
       "      <th>...</th>\n",
       "      <th>TinEC (C)</th>\n",
       "      <th>TinIC (C)</th>\n",
       "      <th>ToutEC (C)</th>\n",
       "      <th>ToutIC (C)</th>\n",
       "      <th>Ttank (C)</th>\n",
       "      <th>RT Fraction</th>\n",
       "      <th>IC Mean Temp (C)</th>\n",
       "      <th>CP (kJ/kg-K)</th>\n",
       "      <th>Cooling Delivered (kW)</th>\n",
       "      <th>COP</th>\n",
       "    </tr>\n",
       "    <tr>\n",
       "      <th>Date</th>\n",
       "      <th></th>\n",
       "      <th></th>\n",
       "      <th></th>\n",
       "      <th></th>\n",
       "      <th></th>\n",
       "      <th></th>\n",
       "      <th></th>\n",
       "      <th></th>\n",
       "      <th></th>\n",
       "      <th></th>\n",
       "      <th></th>\n",
       "      <th></th>\n",
       "      <th></th>\n",
       "      <th></th>\n",
       "      <th></th>\n",
       "      <th></th>\n",
       "      <th></th>\n",
       "      <th></th>\n",
       "      <th></th>\n",
       "      <th></th>\n",
       "      <th></th>\n",
       "    </tr>\n",
       "  </thead>\n",
       "  <tbody>\n",
       "    <tr>\n",
       "      <th>2005-02-28 07:00:00</th>\n",
       "      <td>18.441667</td>\n",
       "      <td>18.939033</td>\n",
       "      <td>18.391650</td>\n",
       "      <td>18.596417</td>\n",
       "      <td>18.46495</td>\n",
       "      <td>18.704150</td>\n",
       "      <td>18.498217</td>\n",
       "      <td>18.74005</td>\n",
       "      <td>18.461050</td>\n",
       "      <td>18.709017</td>\n",
       "      <td>...</td>\n",
       "      <td>18.607850</td>\n",
       "      <td>25.310317</td>\n",
       "      <td>18.610783</td>\n",
       "      <td>23.028150</td>\n",
       "      <td>NaN</td>\n",
       "      <td>1.0</td>\n",
       "      <td>24.169233</td>\n",
       "      <td>4.181674</td>\n",
       "      <td>8.277969</td>\n",
       "      <td>2.112312</td>\n",
       "    </tr>\n",
       "    <tr>\n",
       "      <th>2005-02-28 08:00:00</th>\n",
       "      <td>18.461083</td>\n",
       "      <td>18.944983</td>\n",
       "      <td>18.411033</td>\n",
       "      <td>18.604333</td>\n",
       "      <td>18.48705</td>\n",
       "      <td>18.712283</td>\n",
       "      <td>18.517283</td>\n",
       "      <td>18.74750</td>\n",
       "      <td>18.480117</td>\n",
       "      <td>18.716283</td>\n",
       "      <td>...</td>\n",
       "      <td>18.622933</td>\n",
       "      <td>35.459450</td>\n",
       "      <td>18.624667</td>\n",
       "      <td>33.061983</td>\n",
       "      <td>NaN</td>\n",
       "      <td>1.0</td>\n",
       "      <td>34.260717</td>\n",
       "      <td>4.179292</td>\n",
       "      <td>8.731681</td>\n",
       "      <td>1.812236</td>\n",
       "    </tr>\n",
       "  </tbody>\n",
       "</table>\n",
       "<p>2 rows × 35 columns</p>\n",
       "</div>"
      ],
      "text/plain": [
       "                      B1in (C)  B1out (C)   B2in (C)  B2out (C)  B3in (C)  \\\n",
       "Date                                                                        \n",
       "2005-02-28 07:00:00  18.441667  18.939033  18.391650  18.596417  18.46495   \n",
       "2005-02-28 08:00:00  18.461083  18.944983  18.411033  18.604333  18.48705   \n",
       "\n",
       "                     B3out (C)   B4in (C)  B4out (C)   B5in (C)  B5out (C)  \\\n",
       "Date                                                                         \n",
       "2005-02-28 07:00:00  18.704150  18.498217   18.74005  18.461050  18.709017   \n",
       "2005-02-28 08:00:00  18.712283  18.517283   18.74750  18.480117  18.716283   \n",
       "\n",
       "                       ...     TinEC (C)  TinIC (C)  ToutEC (C)  ToutIC (C)  \\\n",
       "Date                   ...                                                    \n",
       "2005-02-28 07:00:00    ...     18.607850  25.310317   18.610783   23.028150   \n",
       "2005-02-28 08:00:00    ...     18.622933  35.459450   18.624667   33.061983   \n",
       "\n",
       "                     Ttank (C)  RT Fraction  IC Mean Temp (C)  CP (kJ/kg-K)  \\\n",
       "Date                                                                          \n",
       "2005-02-28 07:00:00        NaN          1.0         24.169233      4.181674   \n",
       "2005-02-28 08:00:00        NaN          1.0         34.260717      4.179292   \n",
       "\n",
       "                     Cooling Delivered (kW)       COP  \n",
       "Date                                                   \n",
       "2005-02-28 07:00:00                8.277969  2.112312  \n",
       "2005-02-28 08:00:00                8.731681  1.812236  \n",
       "\n",
       "[2 rows x 35 columns]"
      ]
     },
     "execution_count": 58,
     "metadata": {},
     "output_type": "execute_result"
    }
   ],
   "source": [
    "df_cooling['COP'] = df_cooling['Cooling Delivered (kW)'] / df_cooling['P_EC(kW)']\n",
    "df_cooling.head(2)"
   ]
  },
  {
   "cell_type": "code",
   "execution_count": 59,
   "metadata": {},
   "outputs": [
    {
     "data": {
      "text/html": [
       "<div>\n",
       "<style scoped>\n",
       "    .dataframe tbody tr th:only-of-type {\n",
       "        vertical-align: middle;\n",
       "    }\n",
       "\n",
       "    .dataframe tbody tr th {\n",
       "        vertical-align: top;\n",
       "    }\n",
       "\n",
       "    .dataframe thead th {\n",
       "        text-align: right;\n",
       "    }\n",
       "</style>\n",
       "<table border=\"1\" class=\"dataframe\">\n",
       "  <thead>\n",
       "    <tr style=\"text-align: right;\">\n",
       "      <th></th>\n",
       "      <th>B1in (C)</th>\n",
       "      <th>B1out (C)</th>\n",
       "      <th>B2in (C)</th>\n",
       "      <th>B2out (C)</th>\n",
       "      <th>B3in (C)</th>\n",
       "      <th>B3out (C)</th>\n",
       "      <th>B4in (C)</th>\n",
       "      <th>B4out (C)</th>\n",
       "      <th>B5in (C)</th>\n",
       "      <th>B5out (C)</th>\n",
       "      <th>...</th>\n",
       "      <th>TinEC (C)</th>\n",
       "      <th>TinIC (C)</th>\n",
       "      <th>ToutEC (C)</th>\n",
       "      <th>ToutIC (C)</th>\n",
       "      <th>Ttank (C)</th>\n",
       "      <th>RT Fraction</th>\n",
       "      <th>IC Mean Temp (C)</th>\n",
       "      <th>CP (kJ/kg-K)</th>\n",
       "      <th>Heating Delivered (kW)</th>\n",
       "      <th>COP</th>\n",
       "    </tr>\n",
       "    <tr>\n",
       "      <th>Date</th>\n",
       "      <th></th>\n",
       "      <th></th>\n",
       "      <th></th>\n",
       "      <th></th>\n",
       "      <th></th>\n",
       "      <th></th>\n",
       "      <th></th>\n",
       "      <th></th>\n",
       "      <th></th>\n",
       "      <th></th>\n",
       "      <th></th>\n",
       "      <th></th>\n",
       "      <th></th>\n",
       "      <th></th>\n",
       "      <th></th>\n",
       "      <th></th>\n",
       "      <th></th>\n",
       "      <th></th>\n",
       "      <th></th>\n",
       "      <th></th>\n",
       "      <th></th>\n",
       "    </tr>\n",
       "  </thead>\n",
       "  <tbody>\n",
       "    <tr>\n",
       "      <th>2005-02-01 14:00:00</th>\n",
       "      <td>46.426717</td>\n",
       "      <td>44.167517</td>\n",
       "      <td>14.881250</td>\n",
       "      <td>16.940617</td>\n",
       "      <td>3203.355129</td>\n",
       "      <td>2795.749650</td>\n",
       "      <td>2.512922</td>\n",
       "      <td>1.035336</td>\n",
       "      <td>15.571733</td>\n",
       "      <td>16.88725</td>\n",
       "      <td>...</td>\n",
       "      <td>17.272667</td>\n",
       "      <td>15.737450</td>\n",
       "      <td>16.685867</td>\n",
       "      <td>16.631283</td>\n",
       "      <td>NaN</td>\n",
       "      <td>1.0</td>\n",
       "      <td>16.184367</td>\n",
       "      <td>4.187236</td>\n",
       "      <td>3.330325</td>\n",
       "      <td>1.327552</td>\n",
       "    </tr>\n",
       "    <tr>\n",
       "      <th>2005-02-01 15:00:00</th>\n",
       "      <td>46.250100</td>\n",
       "      <td>44.492417</td>\n",
       "      <td>15.446033</td>\n",
       "      <td>17.046017</td>\n",
       "      <td>3194.921213</td>\n",
       "      <td>2796.079038</td>\n",
       "      <td>2.008052</td>\n",
       "      <td>1.017962</td>\n",
       "      <td>15.334133</td>\n",
       "      <td>16.94085</td>\n",
       "      <td>...</td>\n",
       "      <td>17.273300</td>\n",
       "      <td>15.812633</td>\n",
       "      <td>16.743167</td>\n",
       "      <td>16.671967</td>\n",
       "      <td>NaN</td>\n",
       "      <td>1.0</td>\n",
       "      <td>16.242300</td>\n",
       "      <td>4.187179</td>\n",
       "      <td>3.193308</td>\n",
       "      <td>1.533051</td>\n",
       "    </tr>\n",
       "  </tbody>\n",
       "</table>\n",
       "<p>2 rows × 35 columns</p>\n",
       "</div>"
      ],
      "text/plain": [
       "                      B1in (C)  B1out (C)   B2in (C)  B2out (C)     B3in (C)  \\\n",
       "Date                                                                           \n",
       "2005-02-01 14:00:00  46.426717  44.167517  14.881250  16.940617  3203.355129   \n",
       "2005-02-01 15:00:00  46.250100  44.492417  15.446033  17.046017  3194.921213   \n",
       "\n",
       "                       B3out (C)  B4in (C)  B4out (C)   B5in (C)  B5out (C)  \\\n",
       "Date                                                                          \n",
       "2005-02-01 14:00:00  2795.749650  2.512922   1.035336  15.571733   16.88725   \n",
       "2005-02-01 15:00:00  2796.079038  2.008052   1.017962  15.334133   16.94085   \n",
       "\n",
       "                       ...     TinEC (C)  TinIC (C)  ToutEC (C)  ToutIC (C)  \\\n",
       "Date                   ...                                                    \n",
       "2005-02-01 14:00:00    ...     17.272667  15.737450   16.685867   16.631283   \n",
       "2005-02-01 15:00:00    ...     17.273300  15.812633   16.743167   16.671967   \n",
       "\n",
       "                     Ttank (C)  RT Fraction  IC Mean Temp (C)  CP (kJ/kg-K)  \\\n",
       "Date                                                                          \n",
       "2005-02-01 14:00:00        NaN          1.0         16.184367      4.187236   \n",
       "2005-02-01 15:00:00        NaN          1.0         16.242300      4.187179   \n",
       "\n",
       "                     Heating Delivered (kW)       COP  \n",
       "Date                                                   \n",
       "2005-02-01 14:00:00                3.330325  1.327552  \n",
       "2005-02-01 15:00:00                3.193308  1.533051  \n",
       "\n",
       "[2 rows x 35 columns]"
      ]
     },
     "execution_count": 59,
     "metadata": {},
     "output_type": "execute_result"
    }
   ],
   "source": [
    "df_heating['COP'] = df_heating['Heating Delivered (kW)'] / df_heating['P_EC(kW)']\n",
    "df_heating.head(2)"
   ]
  },
  {
   "cell_type": "code",
   "execution_count": 60,
   "metadata": {},
   "outputs": [
    {
     "name": "stderr",
     "output_type": "stream",
     "text": [
      "C:\\ProgramData\\Anaconda3\\lib\\site-packages\\pandas\\plotting\\_core.py:1716: UserWarning: Pandas doesn't allow columns to be created via a new attribute name - see https://pandas.pydata.org/pandas-docs/stable/indexing.html#attribute-access\n",
      "  series.name = label\n"
     ]
    },
    {
     "data": {
      "text/plain": [
       "<matplotlib.axes._subplots.AxesSubplot at 0xe462128>"
      ]
     },
     "execution_count": 60,
     "metadata": {},
     "output_type": "execute_result"
    },
    {
     "data": {
      "image/png": "[encoded data removed]",
      "text/plain": [
       "<Figure size 432x288 with 1 Axes>"
      ]
     },
     "metadata": {},
     "output_type": "display_data"
    }
   ],
   "source": [
    "df_cooling.plot(y=['COP'])"
   ]
  },
  {
   "cell_type": "code",
   "execution_count": 61,
   "metadata": {},
   "outputs": [
    {
     "data": {
      "text/plain": [
       "count    5173.000000\n",
       "mean     2738.786034\n",
       "std       738.014205\n",
       "min      1012.022291\n",
       "25%      1917.935363\n",
       "50%      3168.110000\n",
       "75%      3294.426089\n",
       "max      4010.549204\n",
       "Name: Mass Flow Rate IC (kg/h), dtype: float64"
      ]
     },
     "execution_count": 61,
     "metadata": {},
     "output_type": "execute_result"
    }
   ],
   "source": [
    "df_cooling_cop = df_cooling['Mass Flow Rate IC (kg/h)']\n",
    "df_cooling_cop.describe()"
   ]
  },
  {
   "cell_type": "code",
   "execution_count": 62,
   "metadata": {},
   "outputs": [
    {
     "name": "stderr",
     "output_type": "stream",
     "text": [
      "C:\\ProgramData\\Anaconda3\\lib\\site-packages\\pandas\\plotting\\_core.py:1716: UserWarning: Pandas doesn't allow columns to be created via a new attribute name - see https://pandas.pydata.org/pandas-docs/stable/indexing.html#attribute-access\n",
      "  series.name = label\n"
     ]
    },
    {
     "data": {
      "text/plain": [
       "<matplotlib.axes._subplots.AxesSubplot at 0xe0c1be0>"
      ]
     },
     "execution_count": 62,
     "metadata": {},
     "output_type": "execute_result"
    },
    {
     "data": {
      "image/png": "[encoded data removed]",
      "text/plain": [
       "<Figure size 432x288 with 1 Axes>"
      ]
     },
     "metadata": {},
     "output_type": "display_data"
    }
   ],
   "source": [
    "df_heating.plot(y=['COP'])"
   ]
  },
  {
   "cell_type": "code",
   "execution_count": 63,
   "metadata": {},
   "outputs": [
    {
     "data": {
      "text/plain": [
       "count    3884.000000\n",
       "mean     2705.765060\n",
       "std       734.821814\n",
       "min       546.864506\n",
       "25%      2152.289211\n",
       "50%      3092.816902\n",
       "75%      3173.444581\n",
       "max      3778.874167\n",
       "Name: Mass Flow Rate IC (kg/h), dtype: float64"
      ]
     },
     "execution_count": 63,
     "metadata": {},
     "output_type": "execute_result"
    }
   ],
   "source": [
    "df_heating_cop = df_heating['Mass Flow Rate IC (kg/h)']\n",
    "df_heating_cop.describe()"
   ]
  },
  {
   "cell_type": "code",
   "execution_count": 64,
   "metadata": {},
   "outputs": [],
   "source": [
    "bin_1 = np.arange(4, 28, 2)#[4, 6, 8, 10, 12, 14, 16, 18, 20, 22, 24, 26]\n",
    "bin_2 = np.arange(-0.125, 1.5, 0.25) #[-0.125, 0.125, 0.375, 0.625, 0.875, 1.125]\n",
    "\n",
    "cooling_bins = binned_statistic_2d(df_cooling['TinEC (C)'], df_cooling['RT Fraction'], df_cooling['COP'], statistic='mean', bins=[bin_1, bin_2]).statistic \n",
    "heating_bins = binned_statistic_2d(df_heating['TinEC (C)'], df_heating['RT Fraction'], df_heating['COP'], statistic='mean', bins=[bin_1, bin_2]).statistic"
   ]
  },
  {
   "cell_type": "code",
   "execution_count": 65,
   "metadata": {},
   "outputs": [
    {
     "data": {
      "text/plain": [
       "array([ 4,  6,  8, 10, 12, 14, 16, 18, 20, 22, 24, 26])"
      ]
     },
     "execution_count": 65,
     "metadata": {},
     "output_type": "execute_result"
    }
   ],
   "source": [
    "bin_1"
   ]
  },
  {
   "cell_type": "code",
   "execution_count": 66,
   "metadata": {},
   "outputs": [
    {
     "data": {
      "text/plain": [
       "array([-0.125,  0.125,  0.375,  0.625,  0.875,  1.125,  1.375])"
      ]
     },
     "execution_count": 66,
     "metadata": {},
     "output_type": "execute_result"
    }
   ],
   "source": [
    "bin_2"
   ]
  },
  {
   "cell_type": "code",
   "execution_count": 67,
   "metadata": {},
   "outputs": [
    {
     "data": {
      "text/plain": [
       "array([[       nan,        nan,        nan,        nan,        nan,\n",
       "               nan],\n",
       "       [       nan,        nan,        nan,        nan,        nan,\n",
       "               nan],\n",
       "       [       nan,        nan,        nan,        nan, 3.7833502 ,\n",
       "               nan],\n",
       "       [       nan,        nan,        nan,        nan, 4.45784525,\n",
       "               nan],\n",
       "       [       nan,        nan,        nan,        nan, 4.67016407,\n",
       "               nan],\n",
       "       [       nan,        nan,        nan,        nan, 4.53803073,\n",
       "               nan],\n",
       "       [       nan,        nan,        nan,        nan, 4.04787489,\n",
       "               nan],\n",
       "       [       nan,        nan,        nan,        nan, 3.08419154,\n",
       "               nan],\n",
       "       [       nan,        nan,        nan,        nan, 2.02024623,\n",
       "               nan],\n",
       "       [       nan,        nan,        nan,        nan, 0.78917517,\n",
       "               nan],\n",
       "       [       nan,        nan,        nan,        nan, 0.61086682,\n",
       "               nan]])"
      ]
     },
     "execution_count": 67,
     "metadata": {},
     "output_type": "execute_result"
    }
   ],
   "source": [
    "cooling_bins"
   ]
  },
  {
   "cell_type": "code",
   "execution_count": 68,
   "metadata": {},
   "outputs": [
    {
     "data": {
      "text/plain": [
       "array([-0.125,  0.125,  0.375,  0.625,  0.875,  1.125])"
      ]
     },
     "execution_count": 68,
     "metadata": {},
     "output_type": "execute_result"
    }
   ],
   "source": [
    "bin_test = bin_2[:-1]\n",
    "bin_test"
   ]
  },
  {
   "cell_type": "code",
   "execution_count": 69,
   "metadata": {},
   "outputs": [
    {
     "data": {
      "text/plain": [
       "[<matplotlib.lines.Line2D at 0xe6e9ba8>,\n",
       " <matplotlib.lines.Line2D at 0xe6e9d30>,\n",
       " <matplotlib.lines.Line2D at 0xe6e9e48>,\n",
       " <matplotlib.lines.Line2D at 0xe6e9f98>,\n",
       " <matplotlib.lines.Line2D at 0xe6f2128>,\n",
       " <matplotlib.lines.Line2D at 0xe6f2278>]"
      ]
     },
     "execution_count": 69,
     "metadata": {},
     "output_type": "execute_result"
    },
    {
     "data": {
      "image/png": "[encoded data removed]",
      "text/plain": [
       "<Figure size 432x288 with 1 Axes>"
      ]
     },
     "metadata": {},
     "output_type": "display_data"
    }
   ],
   "source": [
    "plt.plot(cooling_bins, 'o')"
   ]
  },
  {
   "cell_type": "code",
   "execution_count": 70,
   "metadata": {},
   "outputs": [
    {
     "data": {
      "text/plain": [
       "array([[       nan,        nan,        nan,        nan,        nan,\n",
       "               nan],\n",
       "       [       nan,        nan,        nan,        nan,        nan,\n",
       "               nan],\n",
       "       [       nan,        nan,        nan,        nan,        nan,\n",
       "               nan],\n",
       "       [       nan,        nan,        nan,        nan,        nan,\n",
       "               nan],\n",
       "       [       nan,        nan,        nan,        nan,        nan,\n",
       "               nan],\n",
       "       [       nan,        nan,        nan,        nan,        nan,\n",
       "               nan],\n",
       "       [       nan,        nan,        nan,        nan, 1.4699984 ,\n",
       "               nan],\n",
       "       [       nan,        nan,        nan,        nan, 2.1573898 ,\n",
       "               nan],\n",
       "       [       nan,        nan,        nan,        nan, 2.4965772 ,\n",
       "               nan],\n",
       "       [       nan,        nan,        nan,        nan, 3.30709499,\n",
       "               nan],\n",
       "       [       nan,        nan,        nan,        nan, 3.96094741,\n",
       "               nan]])"
      ]
     },
     "execution_count": 70,
     "metadata": {},
     "output_type": "execute_result"
    }
   ],
   "source": [
    "heating_bins"
   ]
  },
  {
   "cell_type": "code",
   "execution_count": 77,
   "metadata": {},
   "outputs": [
    {
     "data": {
      "text/plain": [
       "[<matplotlib.lines.Line2D at 0xeaf3a58>,\n",
       " <matplotlib.lines.Line2D at 0xeaf3b70>,\n",
       " <matplotlib.lines.Line2D at 0xeaf3cc0>,\n",
       " <matplotlib.lines.Line2D at 0xeaf3e10>,\n",
       " <matplotlib.lines.Line2D at 0xeaf3f60>,\n",
       " <matplotlib.lines.Line2D at 0xeafe0f0>]"
      ]
     },
     "execution_count": 77,
     "metadata": {},
     "output_type": "execute_result"
    },
    {
     "data": {
      "image/png": "[encoded data removed]",
      "text/plain": [
       "<Figure size 432x288 with 1 Axes>"
      ]
     },
     "metadata": {},
     "output_type": "display_data"
    }
   ],
   "source": [
    "plt.plot(heating_bins, 'o')"
   ]
  },
  {
   "cell_type": "code",
   "execution_count": 72,
   "metadata": {},
   "outputs": [],
   "source": [
    "cooling_count = binned_statistic_2d(df_cooling['TinEC (C)'], df_cooling['RT Fraction'], df_cooling['COP'], statistic='count', bins=[bin_1, bin_2]).statistic \n",
    "heating_count = binned_statistic_2d(df_heating['TinEC (C)'], df_heating['RT Fraction'], df_heating['COP'], statistic='count', bins=[bin_1, bin_2]).statistic"
   ]
  },
  {
   "cell_type": "code",
   "execution_count": 73,
   "metadata": {},
   "outputs": [
    {
     "data": {
      "text/plain": [
       "array([[   0.,    0.,    0.,    0.,    0.,    0.],\n",
       "       [   0.,    0.,    0.,    0.,    0.,    0.],\n",
       "       [   0.,    0.,    0.,    0.,   10.,    0.],\n",
       "       [   0.,    0.,    0.,    0.,   21.,    0.],\n",
       "       [   0.,    0.,    0.,    0.,  135.,    0.],\n",
       "       [   0.,    0.,    0.,    0., 1280.,    0.],\n",
       "       [   0.,    0.,    0.,    0., 2056.,    0.],\n",
       "       [   0.,    0.,    0.,    0., 1517.,    0.],\n",
       "       [   0.,    0.,    0.,    0.,  116.,    0.],\n",
       "       [   0.,    0.,    0.,    0.,    7.,    0.],\n",
       "       [   0.,    0.,    0.,    0.,   28.,    0.]])"
      ]
     },
     "execution_count": 73,
     "metadata": {},
     "output_type": "execute_result"
    }
   ],
   "source": [
    "cooling_count"
   ]
  },
  {
   "cell_type": "code",
   "execution_count": 74,
   "metadata": {},
   "outputs": [
    {
     "data": {
      "text/plain": [
       "[<matplotlib.lines.Line2D at 0xe9e7da0>,\n",
       " <matplotlib.lines.Line2D at 0xe9e7ef0>,\n",
       " <matplotlib.lines.Line2D at 0xe9f3080>,\n",
       " <matplotlib.lines.Line2D at 0xe9f31d0>,\n",
       " <matplotlib.lines.Line2D at 0xe9f3320>,\n",
       " <matplotlib.lines.Line2D at 0xe9f3470>]"
      ]
     },
     "execution_count": 74,
     "metadata": {},
     "output_type": "execute_result"
    },
    {
     "data": {
      "image/png": "[encoded data removed]",
      "text/plain": [
       "<Figure size 432x288 with 1 Axes>"
      ]
     },
     "metadata": {},
     "output_type": "display_data"
    }
   ],
   "source": [
    "plt.plot(cooling_count)"
   ]
  },
  {
   "cell_type": "code",
   "execution_count": 75,
   "metadata": {},
   "outputs": [
    {
     "data": {
      "text/plain": [
       "array([[  0.,   0.,   0.,   0.,   0.,   0.],\n",
       "       [  0.,   0.,   0.,   0.,   0.,   0.],\n",
       "       [  0.,   0.,   0.,   0.,   0.,   0.],\n",
       "       [  0.,   0.,   0.,   0.,   0.,   0.],\n",
       "       [  0.,   0.,   0.,   0.,   0.,   0.],\n",
       "       [  0.,   0.,   0.,   0.,   0.,   0.],\n",
       "       [  0.,   0.,   0.,   0., 248.,   0.],\n",
       "       [  0.,   0.,   0.,   0., 171.,   0.],\n",
       "       [  0.,   0.,   0.,   0., 255.,   0.],\n",
       "       [  0.,   0.,   0.,   0., 324.,   0.],\n",
       "       [  0.,   0.,   0.,   0., 697.,   0.]])"
      ]
     },
     "execution_count": 75,
     "metadata": {},
     "output_type": "execute_result"
    }
   ],
   "source": [
    "heating_count"
   ]
  },
  {
   "cell_type": "code",
   "execution_count": 76,
   "metadata": {},
   "outputs": [
    {
     "data": {
      "text/plain": [
       "[<matplotlib.lines.Line2D at 0xea90e80>,\n",
       " <matplotlib.lines.Line2D at 0xea90fd0>,\n",
       " <matplotlib.lines.Line2D at 0xea99160>,\n",
       " <matplotlib.lines.Line2D at 0xea992b0>,\n",
       " <matplotlib.lines.Line2D at 0xea99400>,\n",
       " <matplotlib.lines.Line2D at 0xea99550>]"
      ]
     },
     "execution_count": 76,
     "metadata": {},
     "output_type": "execute_result"
    },
    {
     "data": {
      "image/png": "[encoded data removed]",
      "text/plain": [
       "<Figure size 432x288 with 1 Axes>"
      ]
     },
     "metadata": {},
     "output_type": "display_data"
    }
   ],
   "source": [
    "plt.plot(heating_count)"
   ]
  },
  {
   "cell_type": "code",
   "execution_count": null,
   "metadata": {},
   "outputs": [],
   "source": []
  }
 ],
 "metadata": {
  "kernelspec": {
   "display_name": "Python 3",
   "language": "python",
   "name": "python3"
  },
  "language_info": {
   "codemirror_mode": {
    "name": "ipython",
    "version": 3
   },
   "file_extension": ".py",
   "mimetype": "text/x-python",
   "name": "python",
   "nbconvert_exporter": "python",
   "pygments_lexer": "ipython3",
   "version": "3.6.4"
  }
 },
 "nbformat": 4,
 "nbformat_minor": 2
}
